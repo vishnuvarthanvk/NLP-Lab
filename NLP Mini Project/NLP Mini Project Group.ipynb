{
 "cells": [
  {
   "cell_type": "code",
   "execution_count": 1,
   "id": "f8d4230f",
   "metadata": {
    "_cell_guid": "b1076dfc-b9ad-4769-8c92-a6c4dae69d19",
    "_uuid": "8f2839f25d086af736a60e9eeb907d3b93b6e0e5",
    "editable": false,
    "execution": {
     "iopub.execute_input": "2023-04-04T17:16:16.556843Z",
     "iopub.status.busy": "2023-04-04T17:16:16.556315Z",
     "iopub.status.idle": "2023-04-04T17:16:16.576524Z",
     "shell.execute_reply": "2023-04-04T17:16:16.575013Z"
    },
    "papermill": {
     "duration": 0.030985,
     "end_time": "2023-04-04T17:16:16.578941",
     "exception": false,
     "start_time": "2023-04-04T17:16:16.547956",
     "status": "completed"
    },
    "tags": []
   },
   "outputs": [
    {
     "name": "stdout",
     "output_type": "stream",
     "text": [
      "/kaggle/input/consume-complaints-dataset-fo-nlp/complaints_processed.csv\n"
     ]
    }
   ],
   "source": [
    "# This Python 3 environment comes with many helpful analytics libraries installed\n",
    "# It is defined by the kaggle/python Docker image: https://github.com/kaggle/docker-python\n",
    "# For example, here's several helpful packages to load\n",
    "\n",
    "import numpy as np # linear algebra\n",
    "import pandas as pd # data processing, CSV file I/O (e.g. pd.read_csv)\n",
    "\n",
    "# Input data files are available in the read-only \"../input/\" directory\n",
    "# For example, running this (by clicking run or pressing Shift+Enter) will list all files under the input directory\n",
    "\n",
    "import os\n",
    "for dirname, _, filenames in os.walk('/kaggle/input'):\n",
    "    for filename in filenames:\n",
    "        print(os.path.join(dirname, filename))\n",
    "\n",
    "# You can write up to 20GB to the current directory (/kaggle/working/) that gets preserved as output when you create a version using \"Save & Run All\" \n",
    "# You can also write temporary files to /kaggle/temp/, but they won't be saved outside of the current session"
   ]
  },
  {
   "cell_type": "code",
   "execution_count": null,
   "id": "01b942f7",
   "metadata": {},
   "outputs": [],
   "source": [
    "#importing dataset"
   ]
  },
  {
   "cell_type": "code",
   "execution_count": 2,
   "id": "e841157e",
   "metadata": {
    "editable": false,
    "execution": {
     "iopub.execute_input": "2023-04-04T17:16:16.591098Z",
     "iopub.status.busy": "2023-04-04T17:16:16.590705Z",
     "iopub.status.idle": "2023-04-04T17:16:18.904859Z",
     "shell.execute_reply": "2023-04-04T17:16:18.903649Z"
    },
    "papermill": {
     "duration": 2.322772,
     "end_time": "2023-04-04T17:16:18.907243",
     "exception": false,
     "start_time": "2023-04-04T17:16:16.584471",
     "status": "completed"
    },
    "scrolled": true,
    "tags": []
   },
   "outputs": [
    {
     "data": {
      "text/html": [
       "<div>\n",
       "<style scoped>\n",
       "    .dataframe tbody tr th:only-of-type {\n",
       "        vertical-align: middle;\n",
       "    }\n",
       "\n",
       "    .dataframe tbody tr th {\n",
       "        vertical-align: top;\n",
       "    }\n",
       "\n",
       "    .dataframe thead th {\n",
       "        text-align: right;\n",
       "    }\n",
       "</style>\n",
       "<table border=\"1\" class=\"dataframe\">\n",
       "  <thead>\n",
       "    <tr style=\"text-align: right;\">\n",
       "      <th></th>\n",
       "      <th>product</th>\n",
       "      <th>narrative</th>\n",
       "    </tr>\n",
       "  </thead>\n",
       "  <tbody>\n",
       "    <tr>\n",
       "      <th>0</th>\n",
       "      <td>credit_card</td>\n",
       "      <td>purchase order day shipping amount receive pro...</td>\n",
       "    </tr>\n",
       "    <tr>\n",
       "      <th>1</th>\n",
       "      <td>credit_card</td>\n",
       "      <td>forwarded message date tue subject please inve...</td>\n",
       "    </tr>\n",
       "    <tr>\n",
       "      <th>2</th>\n",
       "      <td>retail_banking</td>\n",
       "      <td>forwarded message cc sent friday pdt subject f...</td>\n",
       "    </tr>\n",
       "    <tr>\n",
       "      <th>3</th>\n",
       "      <td>credit_reporting</td>\n",
       "      <td>payment history missing credit report speciali...</td>\n",
       "    </tr>\n",
       "    <tr>\n",
       "      <th>4</th>\n",
       "      <td>credit_reporting</td>\n",
       "      <td>payment history missing credit report made mis...</td>\n",
       "    </tr>\n",
       "    <tr>\n",
       "      <th>5</th>\n",
       "      <td>credit_reporting</td>\n",
       "      <td>payment history missing credit report made mis...</td>\n",
       "    </tr>\n",
       "    <tr>\n",
       "      <th>6</th>\n",
       "      <td>credit_reporting</td>\n",
       "      <td>va date complaint experian credit bureau invol...</td>\n",
       "    </tr>\n",
       "    <tr>\n",
       "      <th>7</th>\n",
       "      <td>credit_reporting</td>\n",
       "      <td>account reported abbreviated name full name se...</td>\n",
       "    </tr>\n",
       "    <tr>\n",
       "      <th>8</th>\n",
       "      <td>credit_reporting</td>\n",
       "      <td>account reported abbreviated name full name se...</td>\n",
       "    </tr>\n",
       "    <tr>\n",
       "      <th>9</th>\n",
       "      <td>credit_reporting</td>\n",
       "      <td>usdoexxxx account reported abbreviated name fu...</td>\n",
       "    </tr>\n",
       "  </tbody>\n",
       "</table>\n",
       "</div>"
      ],
      "text/plain": [
       "            product                                          narrative\n",
       "0       credit_card  purchase order day shipping amount receive pro...\n",
       "1       credit_card  forwarded message date tue subject please inve...\n",
       "2    retail_banking  forwarded message cc sent friday pdt subject f...\n",
       "3  credit_reporting  payment history missing credit report speciali...\n",
       "4  credit_reporting  payment history missing credit report made mis...\n",
       "5  credit_reporting  payment history missing credit report made mis...\n",
       "6  credit_reporting  va date complaint experian credit bureau invol...\n",
       "7  credit_reporting  account reported abbreviated name full name se...\n",
       "8  credit_reporting  account reported abbreviated name full name se...\n",
       "9  credit_reporting  usdoexxxx account reported abbreviated name fu..."
      ]
     },
     "execution_count": 2,
     "metadata": {},
     "output_type": "execute_result"
    }
   ],
   "source": [
    "df=pd.read_csv('/kaggle/input/consume-complaints-dataset-fo-nlp/complaints_processed.csv',index_col=0)\n",
    "df.head(10)"
   ]
  },
  {
   "cell_type": "code",
   "execution_count": 3,
   "id": "57a8ba66",
   "metadata": {
    "editable": false,
    "execution": {
     "iopub.execute_input": "2023-04-04T17:16:18.919889Z",
     "iopub.status.busy": "2023-04-04T17:16:18.919504Z",
     "iopub.status.idle": "2023-04-04T17:16:18.934521Z",
     "shell.execute_reply": "2023-04-04T17:16:18.933439Z"
    },
    "papermill": {
     "duration": 0.023995,
     "end_time": "2023-04-04T17:16:18.936771",
     "exception": false,
     "start_time": "2023-04-04T17:16:18.912776",
     "status": "completed"
    },
    "tags": []
   },
   "outputs": [
    {
     "data": {
      "text/html": [
       "<div>\n",
       "<style scoped>\n",
       "    .dataframe tbody tr th:only-of-type {\n",
       "        vertical-align: middle;\n",
       "    }\n",
       "\n",
       "    .dataframe tbody tr th {\n",
       "        vertical-align: top;\n",
       "    }\n",
       "\n",
       "    .dataframe thead th {\n",
       "        text-align: right;\n",
       "    }\n",
       "</style>\n",
       "<table border=\"1\" class=\"dataframe\">\n",
       "  <thead>\n",
       "    <tr style=\"text-align: right;\">\n",
       "      <th></th>\n",
       "      <th>narrative</th>\n",
       "    </tr>\n",
       "  </thead>\n",
       "  <tbody>\n",
       "    <tr>\n",
       "      <th>0</th>\n",
       "      <td>purchase order day shipping amount receive pro...</td>\n",
       "    </tr>\n",
       "    <tr>\n",
       "      <th>1</th>\n",
       "      <td>forwarded message date tue subject please inve...</td>\n",
       "    </tr>\n",
       "    <tr>\n",
       "      <th>2</th>\n",
       "      <td>forwarded message cc sent friday pdt subject f...</td>\n",
       "    </tr>\n",
       "    <tr>\n",
       "      <th>3</th>\n",
       "      <td>payment history missing credit report speciali...</td>\n",
       "    </tr>\n",
       "    <tr>\n",
       "      <th>4</th>\n",
       "      <td>payment history missing credit report made mis...</td>\n",
       "    </tr>\n",
       "    <tr>\n",
       "      <th>...</th>\n",
       "      <td>...</td>\n",
       "    </tr>\n",
       "    <tr>\n",
       "      <th>162416</th>\n",
       "      <td>name</td>\n",
       "    </tr>\n",
       "    <tr>\n",
       "      <th>162417</th>\n",
       "      <td>name</td>\n",
       "    </tr>\n",
       "    <tr>\n",
       "      <th>162418</th>\n",
       "      <td>name</td>\n",
       "    </tr>\n",
       "    <tr>\n",
       "      <th>162419</th>\n",
       "      <td>name</td>\n",
       "    </tr>\n",
       "    <tr>\n",
       "      <th>162420</th>\n",
       "      <td>name</td>\n",
       "    </tr>\n",
       "  </tbody>\n",
       "</table>\n",
       "<p>162421 rows × 1 columns</p>\n",
       "</div>"
      ],
      "text/plain": [
       "                                                narrative\n",
       "0       purchase order day shipping amount receive pro...\n",
       "1       forwarded message date tue subject please inve...\n",
       "2       forwarded message cc sent friday pdt subject f...\n",
       "3       payment history missing credit report speciali...\n",
       "4       payment history missing credit report made mis...\n",
       "...                                                   ...\n",
       "162416                                               name\n",
       "162417                                               name\n",
       "162418                                               name\n",
       "162419                                               name\n",
       "162420                                               name\n",
       "\n",
       "[162421 rows x 1 columns]"
      ]
     },
     "execution_count": 3,
     "metadata": {},
     "output_type": "execute_result"
    }
   ],
   "source": [
    "df[['narrative']]"
   ]
  },
  {
   "cell_type": "code",
   "execution_count": null,
   "id": "9d4b282d",
   "metadata": {},
   "outputs": [],
   "source": [
    "#EDA"
   ]
  },
  {
   "cell_type": "code",
   "execution_count": 4,
   "id": "0c552fba",
   "metadata": {
    "editable": false,
    "execution": {
     "iopub.execute_input": "2023-04-04T17:16:18.949384Z",
     "iopub.status.busy": "2023-04-04T17:16:18.949041Z",
     "iopub.status.idle": "2023-04-04T17:16:18.983749Z",
     "shell.execute_reply": "2023-04-04T17:16:18.982622Z"
    },
    "papermill": {
     "duration": 0.043591,
     "end_time": "2023-04-04T17:16:18.986050",
     "exception": false,
     "start_time": "2023-04-04T17:16:18.942459",
     "status": "completed"
    },
    "tags": []
   },
   "outputs": [
    {
     "data": {
      "text/plain": [
       "product       0\n",
       "narrative    10\n",
       "dtype: int64"
      ]
     },
     "execution_count": 4,
     "metadata": {},
     "output_type": "execute_result"
    }
   ],
   "source": [
    "df.isna().sum()"
   ]
  },
  {
   "cell_type": "code",
   "execution_count": 5,
   "id": "ec4f8580",
   "metadata": {
    "editable": false,
    "execution": {
     "iopub.execute_input": "2023-04-04T17:16:18.999769Z",
     "iopub.status.busy": "2023-04-04T17:16:18.999371Z",
     "iopub.status.idle": "2023-04-04T17:16:19.040936Z",
     "shell.execute_reply": "2023-04-04T17:16:19.039779Z"
    },
    "papermill": {
     "duration": 0.051343,
     "end_time": "2023-04-04T17:16:19.043568",
     "exception": false,
     "start_time": "2023-04-04T17:16:18.992225",
     "status": "completed"
    },
    "tags": []
   },
   "outputs": [],
   "source": [
    "df.dropna(axis=0,inplace=True)"
   ]
  },
  {
   "cell_type": "code",
   "execution_count": 6,
   "id": "3ae2ae76",
   "metadata": {
    "editable": false,
    "execution": {
     "iopub.execute_input": "2023-04-04T17:16:19.056929Z",
     "iopub.status.busy": "2023-04-04T17:16:19.056556Z",
     "iopub.status.idle": "2023-04-04T17:16:19.063391Z",
     "shell.execute_reply": "2023-04-04T17:16:19.062360Z"
    },
    "papermill": {
     "duration": 0.015885,
     "end_time": "2023-04-04T17:16:19.065386",
     "exception": false,
     "start_time": "2023-04-04T17:16:19.049501",
     "status": "completed"
    },
    "tags": []
   },
   "outputs": [
    {
     "data": {
      "text/plain": [
       "(162411, 2)"
      ]
     },
     "execution_count": 6,
     "metadata": {},
     "output_type": "execute_result"
    }
   ],
   "source": [
    "df.shape"
   ]
  },
  {
   "cell_type": "code",
   "execution_count": 7,
   "id": "17a0321b",
   "metadata": {
    "editable": false,
    "execution": {
     "iopub.execute_input": "2023-04-04T17:16:19.078786Z",
     "iopub.status.busy": "2023-04-04T17:16:19.078462Z",
     "iopub.status.idle": "2023-04-04T17:16:19.096988Z",
     "shell.execute_reply": "2023-04-04T17:16:19.095868Z"
    },
    "papermill": {
     "duration": 0.028032,
     "end_time": "2023-04-04T17:16:19.099453",
     "exception": false,
     "start_time": "2023-04-04T17:16:19.071421",
     "status": "completed"
    },
    "tags": []
   },
   "outputs": [
    {
     "data": {
      "text/plain": [
       "credit_reporting       91172\n",
       "debt_collection        23148\n",
       "mortgages_and_loans    18990\n",
       "credit_card            15566\n",
       "retail_banking         13535\n",
       "Name: product, dtype: int64"
      ]
     },
     "execution_count": 7,
     "metadata": {},
     "output_type": "execute_result"
    }
   ],
   "source": [
    "df['product'].value_counts()"
   ]
  },
  {
   "cell_type": "code",
   "execution_count": null,
   "id": "c9774f4d",
   "metadata": {},
   "outputs": [],
   "source": [
    "#Visualizing the target variables"
   ]
  },
  {
   "cell_type": "code",
   "execution_count": 8,
   "id": "e4586dea",
   "metadata": {
    "execution": {
     "iopub.execute_input": "2023-04-04T17:16:19.113243Z",
     "iopub.status.busy": "2023-04-04T17:16:19.112711Z",
     "iopub.status.idle": "2023-04-04T17:16:19.404170Z",
     "shell.execute_reply": "2023-04-04T17:16:19.402922Z"
    },
    "papermill": {
     "duration": 0.301482,
     "end_time": "2023-04-04T17:16:19.406774",
     "exception": false,
     "start_time": "2023-04-04T17:16:19.105292",
     "status": "completed"
    },
    "tags": []
   },
   "outputs": [
    {
     "data": {
      "text/plain": [
       "<AxesSubplot:>"
      ]
     },
     "execution_count": 8,
     "metadata": {},
     "output_type": "execute_result"
    },
    {
     "data": {
      "image/png": "[encoded data removed]",
      "text/plain": [
       "<Figure size 640x480 with 1 Axes>"
      ]
     },
     "metadata": {},
     "output_type": "display_data"
    }
   ],
   "source": [
    "import matplotlib.pyplot as plt\n",
    "df['product'].value_counts().plot(kind='bar')"
   ]
  },
  {
   "cell_type": "code",
   "execution_count": null,
   "id": "8eead075",
   "metadata": {},
   "outputs": [],
   "source": [
    "#importing necessary modules and applying preprocessing steps"
   ]
  },
  {
   "cell_type": "code",
   "execution_count": 9,
   "id": "c97d105f",
   "metadata": {
    "editable": false,
    "execution": {
     "iopub.execute_input": "2023-04-04T17:16:19.422291Z",
     "iopub.status.busy": "2023-04-04T17:16:19.421901Z",
     "iopub.status.idle": "2023-04-04T17:23:44.097885Z",
     "shell.execute_reply": "2023-04-04T17:23:44.096591Z"
    },
    "papermill": {
     "duration": 444.687213,
     "end_time": "2023-04-04T17:23:44.100864",
     "exception": false,
     "start_time": "2023-04-04T17:16:19.413651",
     "status": "completed"
    },
    "tags": []
   },
   "outputs": [
    {
     "name": "stdout",
     "output_type": "stream",
     "text": [
      "[nltk_data] Downloading package stopwords to /usr/share/nltk_data...\n",
      "[nltk_data]   Package stopwords is already up-to-date!\n",
      "[nltk_data] Downloading package wordnet to /usr/share/nltk_data...\n",
      "[nltk_data]   Package wordnet is already up-to-date!\n"
     ]
    }
   ],
   "source": [
    "import nltk\n",
    "from nltk.tokenize import word_tokenize\n",
    "from nltk.corpus import stopwords\n",
    "from nltk.stem import WordNetLemmatizer,PorterStemmer\n",
    "import string\n",
    "\n",
    "\n",
    "nltk.download('stopwords')\n",
    "nltk.download('wordnet')\n",
    "stop_words = set(stopwords.words('english'))\n",
    "stemmer = PorterStemmer()\n",
    "\n",
    "def preprocess(text):\n",
    "    words = word_tokenize(text.lower())\n",
    "    words = [word for word in words if word not in stop_words and word not in string.punctuation]\n",
    "    words = [stemmer.stem(word) for word in words]\n",
    "    return ' '.join(words)\n",
    "df['narrative'] = df['narrative'].apply(preprocess)"
   ]
  },
  {
   "cell_type": "code",
   "execution_count": 10,
   "id": "8905b5d1",
   "metadata": {
    "editable": false,
    "execution": {
     "iopub.execute_input": "2023-04-04T17:23:44.117366Z",
     "iopub.status.busy": "2023-04-04T17:23:44.117000Z",
     "iopub.status.idle": "2023-04-04T17:23:44.125967Z",
     "shell.execute_reply": "2023-04-04T17:23:44.124530Z"
    },
    "papermill": {
     "duration": 0.019735,
     "end_time": "2023-04-04T17:23:44.128264",
     "exception": false,
     "start_time": "2023-04-04T17:23:44.108529",
     "status": "completed"
    },
    "tags": []
   },
   "outputs": [
    {
     "data": {
      "text/plain": [
       "0         purchas order day ship amount receiv product w...\n",
       "1         forward messag date tue subject pleas investig...\n",
       "2         forward messag cc sent friday pdt subject fina...\n",
       "3         payment histori miss credit report special loa...\n",
       "4         payment histori miss credit report made mistak...\n",
       "                                ...                        \n",
       "162416                                                 name\n",
       "162417                                                 name\n",
       "162418                                                 name\n",
       "162419                                                 name\n",
       "162420                                                 name\n",
       "Name: narrative, Length: 162411, dtype: object"
      ]
     },
     "execution_count": 10,
     "metadata": {},
     "output_type": "execute_result"
    }
   ],
   "source": [
    "df['narrative']"
   ]
  },
  {
   "cell_type": "code",
   "execution_count": null,
   "id": "bf26c8fc",
   "metadata": {},
   "outputs": [],
   "source": [
    "#Applying tfidf vectorization"
   ]
  },
  {
   "cell_type": "code",
   "execution_count": 11,
   "id": "7b2d2843",
   "metadata": {
    "editable": false,
    "execution": {
     "iopub.execute_input": "2023-04-04T17:23:44.143587Z",
     "iopub.status.busy": "2023-04-04T17:23:44.143228Z",
     "iopub.status.idle": "2023-04-04T17:23:54.403996Z",
     "shell.execute_reply": "2023-04-04T17:23:54.402777Z"
    },
    "papermill": {
     "duration": 10.270881,
     "end_time": "2023-04-04T17:23:54.406282",
     "exception": false,
     "start_time": "2023-04-04T17:23:44.135401",
     "status": "completed"
    },
    "tags": []
   },
   "outputs": [
    {
     "data": {
      "text/plain": [
       "<162411x33614 sparse matrix of type '<class 'numpy.float64'>'\n",
       "\twith 8025075 stored elements in Compressed Sparse Row format>"
      ]
     },
     "execution_count": 11,
     "metadata": {},
     "output_type": "execute_result"
    }
   ],
   "source": [
    "from sklearn.feature_extraction.text import TfidfVectorizer\n",
    "tfidf=TfidfVectorizer()\n",
    "X=tfidf.fit_transform(df['narrative'])\n",
    "X"
   ]
  },
  {
   "cell_type": "code",
   "execution_count": null,
   "id": "7cbc6a83",
   "metadata": {},
   "outputs": [],
   "source": [
    "#Splitting the dataset for train and test and importing decision tree classifier"
   ]
  },
  {
   "cell_type": "code",
   "execution_count": 12,
   "id": "ecc29fb2",
   "metadata": {
    "editable": false,
    "execution": {
     "iopub.execute_input": "2023-04-04T17:23:54.422461Z",
     "iopub.status.busy": "2023-04-04T17:23:54.422091Z",
     "iopub.status.idle": "2023-04-04T17:23:54.556062Z",
     "shell.execute_reply": "2023-04-04T17:23:54.555076Z"
    },
    "papermill": {
     "duration": 0.144856,
     "end_time": "2023-04-04T17:23:54.558634",
     "exception": false,
     "start_time": "2023-04-04T17:23:54.413778",
     "status": "completed"
    },
    "tags": []
   },
   "outputs": [],
   "source": [
    "from sklearn.model_selection import train_test_split\n",
    "from sklearn.tree import DecisionTreeClassifier"
   ]
  },
  {
   "cell_type": "code",
   "execution_count": 13,
   "id": "ebcf6c90",
   "metadata": {
    "editable": false,
    "execution": {
     "iopub.execute_input": "2023-04-04T17:23:54.575919Z",
     "iopub.status.busy": "2023-04-04T17:23:54.575213Z",
     "iopub.status.idle": "2023-04-04T17:23:54.580334Z",
     "shell.execute_reply": "2023-04-04T17:23:54.579286Z"
    },
    "papermill": {
     "duration": 0.016212,
     "end_time": "2023-04-04T17:23:54.582531",
     "exception": false,
     "start_time": "2023-04-04T17:23:54.566319",
     "status": "completed"
    },
    "tags": []
   },
   "outputs": [],
   "source": [
    "y=df['product']"
   ]
  },
  {
   "cell_type": "code",
   "execution_count": 14,
   "id": "ea8c7abc",
   "metadata": {
    "editable": false,
    "execution": {
     "iopub.execute_input": "2023-04-04T17:23:54.598820Z",
     "iopub.status.busy": "2023-04-04T17:23:54.598203Z",
     "iopub.status.idle": "2023-04-04T17:23:54.662557Z",
     "shell.execute_reply": "2023-04-04T17:23:54.661667Z"
    },
    "papermill": {
     "duration": 0.075263,
     "end_time": "2023-04-04T17:23:54.665219",
     "exception": false,
     "start_time": "2023-04-04T17:23:54.589956",
     "status": "completed"
    },
    "tags": []
   },
   "outputs": [],
   "source": [
    "X_train,X_test,y_train,y_test=train_test_split(X,y,test_size=0.20,random_state=42)"
   ]
  },
  {
   "cell_type": "code",
   "execution_count": null,
   "id": "5ab382b4",
   "metadata": {},
   "outputs": [],
   "source": [
    "#Fitting"
   ]
  },
  {
   "cell_type": "code",
   "execution_count": 15,
   "id": "894fe5b7",
   "metadata": {
    "editable": false,
    "execution": {
     "iopub.execute_input": "2023-04-04T17:23:54.681443Z",
     "iopub.status.busy": "2023-04-04T17:23:54.680793Z",
     "iopub.status.idle": "2023-04-04T17:27:48.789275Z",
     "shell.execute_reply": "2023-04-04T17:27:48.787466Z"
    },
    "papermill": {
     "duration": 234.1271,
     "end_time": "2023-04-04T17:27:48.799753",
     "exception": false,
     "start_time": "2023-04-04T17:23:54.672653",
     "status": "completed"
    },
    "tags": []
   },
   "outputs": [
    {
     "data": {
      "text/plain": [
       "DecisionTreeClassifier()"
      ]
     },
     "execution_count": 15,
     "metadata": {},
     "output_type": "execute_result"
    }
   ],
   "source": [
    "DTC=DecisionTreeClassifier()\n",
    "DTC.fit(X_train,y_train)"
   ]
  },
  {
   "cell_type": "code",
   "execution_count": null,
   "id": "555870b3",
   "metadata": {},
   "outputs": [],
   "source": [
    "#Prediction"
   ]
  },
  {
   "cell_type": "code",
   "execution_count": 16,
   "id": "0d92e65f",
   "metadata": {
    "editable": false,
    "execution": {
     "iopub.execute_input": "2023-04-04T17:27:48.821143Z",
     "iopub.status.busy": "2023-04-04T17:27:48.820736Z",
     "iopub.status.idle": "2023-04-04T17:27:48.938985Z",
     "shell.execute_reply": "2023-04-04T17:27:48.937889Z"
    },
    "papermill": {
     "duration": 0.133022,
     "end_time": "2023-04-04T17:27:48.941614",
     "exception": false,
     "start_time": "2023-04-04T17:27:48.808592",
     "status": "completed"
    },
    "tags": []
   },
   "outputs": [
    {
     "data": {
      "text/plain": [
       "array(['retail_banking', 'credit_reporting', 'mortgages_and_loans', ...,\n",
       "       'credit_reporting', 'credit_reporting', 'credit_reporting'],\n",
       "      dtype=object)"
      ]
     },
     "execution_count": 16,
     "metadata": {},
     "output_type": "execute_result"
    }
   ],
   "source": [
    "y_pred_DTC=DTC.predict(X_test)\n",
    "y_pred_DTC"
   ]
  },
  {
   "cell_type": "code",
   "execution_count": 17,
   "id": "0ff5b07e",
   "metadata": {
    "editable": false,
    "execution": {
     "iopub.execute_input": "2023-04-04T17:27:48.959073Z",
     "iopub.status.busy": "2023-04-04T17:27:48.958386Z",
     "iopub.status.idle": "2023-04-04T17:27:49.795329Z",
     "shell.execute_reply": "2023-04-04T17:27:49.793806Z"
    },
    "papermill": {
     "duration": 0.848353,
     "end_time": "2023-04-04T17:27:49.797740",
     "exception": false,
     "start_time": "2023-04-04T17:27:48.949387",
     "status": "completed"
    },
    "tags": []
   },
   "outputs": [
    {
     "name": "stdout",
     "output_type": "stream",
     "text": [
      "                     precision    recall  f1-score   support\n",
      "\n",
      "        credit_card       0.66      0.64      0.65      3132\n",
      "   credit_reporting       0.89      0.93      0.91     18283\n",
      "    debt_collection       0.73      0.69      0.71      4615\n",
      "mortgages_and_loans       0.76      0.72      0.74      3770\n",
      "     retail_banking       0.74      0.73      0.73      2683\n",
      "\n",
      "           accuracy                           0.82     32483\n",
      "          macro avg       0.76      0.74      0.75     32483\n",
      "       weighted avg       0.82      0.82      0.82     32483\n",
      "\n"
     ]
    }
   ],
   "source": [
    "from sklearn.metrics import classification_report\n",
    "print(classification_report(y_test,y_pred_DTC))\n"
   ]
  },
  {
   "cell_type": "code",
   "execution_count": null,
   "id": "cb13efde",
   "metadata": {},
   "outputs": [],
   "source": [
    "#Random Forest classifier model"
   ]
  },
  {
   "cell_type": "code",
   "execution_count": 18,
   "id": "97182616",
   "metadata": {
    "editable": false,
    "execution": {
     "iopub.execute_input": "2023-04-04T17:27:49.815013Z",
     "iopub.status.busy": "2023-04-04T17:27:49.814617Z",
     "iopub.status.idle": "2023-04-04T17:38:59.978682Z",
     "shell.execute_reply": "2023-04-04T17:38:59.977271Z"
    },
    "papermill": {
     "duration": 670.176415,
     "end_time": "2023-04-04T17:38:59.981909",
     "exception": false,
     "start_time": "2023-04-04T17:27:49.805494",
     "status": "completed"
    },
    "tags": []
   },
   "outputs": [],
   "source": [
    "from sklearn.ensemble import RandomForestClassifier\n",
    "RFC=RandomForestClassifier()\n",
    "RFC.fit(X_train,y_train)\n",
    "y_pred_RFC=RFC.predict(X_test)"
   ]
  },
  {
   "cell_type": "code",
   "execution_count": 19,
   "id": "c532d1d9",
   "metadata": {
    "editable": false,
    "execution": {
     "iopub.execute_input": "2023-04-04T17:38:59.999850Z",
     "iopub.status.busy": "2023-04-04T17:38:59.999421Z",
     "iopub.status.idle": "2023-04-04T17:39:00.868165Z",
     "shell.execute_reply": "2023-04-04T17:39:00.866872Z"
    },
    "papermill": {
     "duration": 0.880252,
     "end_time": "2023-04-04T17:39:00.870681",
     "exception": false,
     "start_time": "2023-04-04T17:38:59.990429",
     "status": "completed"
    },
    "tags": []
   },
   "outputs": [
    {
     "name": "stdout",
     "output_type": "stream",
     "text": [
      "                     precision    recall  f1-score   support\n",
      "\n",
      "        credit_card       0.83      0.68      0.74      3132\n",
      "   credit_reporting       0.88      0.98      0.93     18283\n",
      "    debt_collection       0.90      0.69      0.78      4615\n",
      "mortgages_and_loans       0.86      0.79      0.83      3770\n",
      "     retail_banking       0.85      0.84      0.85      2683\n",
      "\n",
      "           accuracy                           0.87     32483\n",
      "          macro avg       0.86      0.79      0.82     32483\n",
      "       weighted avg       0.87      0.87      0.87     32483\n",
      "\n"
     ]
    }
   ],
   "source": [
    "print(classification_report(y_test,y_pred_RFC))"
   ]
  },
  {
   "cell_type": "code",
   "execution_count": null,
   "id": "b6301dbe",
   "metadata": {},
   "outputs": [],
   "source": [
    "#Training the model with linear SVC"
   ]
  },
  {
   "cell_type": "code",
   "execution_count": 20,
   "id": "513d9dd7",
   "metadata": {
    "editable": false,
    "execution": {
     "iopub.execute_input": "2023-04-04T17:39:00.889059Z",
     "iopub.status.busy": "2023-04-04T17:39:00.888628Z",
     "iopub.status.idle": "2023-04-04T17:39:09.820020Z",
     "shell.execute_reply": "2023-04-04T17:39:09.818762Z"
    },
    "papermill": {
     "duration": 8.943506,
     "end_time": "2023-04-04T17:39:09.822678",
     "exception": false,
     "start_time": "2023-04-04T17:39:00.879172",
     "status": "completed"
    },
    "tags": []
   },
   "outputs": [],
   "source": [
    "from sklearn.svm import LinearSVC\n",
    "LVC=LinearSVC()\n",
    "LVC.fit(X_train,y_train)\n",
    "y_pred_LVC=LVC.predict(X_test)"
   ]
  },
  {
   "cell_type": "code",
   "execution_count": 21,
   "id": "b2f8a1a3",
   "metadata": {
    "editable": false,
    "execution": {
     "iopub.execute_input": "2023-04-04T17:39:09.841447Z",
     "iopub.status.busy": "2023-04-04T17:39:09.841054Z",
     "iopub.status.idle": "2023-04-04T17:39:10.694975Z",
     "shell.execute_reply": "2023-04-04T17:39:10.693710Z"
    },
    "papermill": {
     "duration": 0.865719,
     "end_time": "2023-04-04T17:39:10.697350",
     "exception": false,
     "start_time": "2023-04-04T17:39:09.831631",
     "status": "completed"
    },
    "tags": []
   },
   "outputs": [
    {
     "name": "stdout",
     "output_type": "stream",
     "text": [
      "                     precision    recall  f1-score   support\n",
      "\n",
      "        credit_card       0.79      0.77      0.78      3132\n",
      "   credit_reporting       0.90      0.93      0.92     18283\n",
      "    debt_collection       0.81      0.73      0.76      4615\n",
      "mortgages_and_loans       0.84      0.82      0.83      3770\n",
      "     retail_banking       0.86      0.88      0.87      2683\n",
      "\n",
      "           accuracy                           0.87     32483\n",
      "          macro avg       0.84      0.83      0.83     32483\n",
      "       weighted avg       0.87      0.87      0.87     32483\n",
      "\n"
     ]
    }
   ],
   "source": [
    "print(classification_report(y_test,y_pred_LVC))"
   ]
  },
  {
   "cell_type": "code",
   "execution_count": 22,
   "id": "4930769d",
   "metadata": {
    "editable": false,
    "execution": {
     "iopub.execute_input": "2023-04-04T17:39:10.715965Z",
     "iopub.status.busy": "2023-04-04T17:39:10.715557Z",
     "iopub.status.idle": "2023-04-04T17:39:10.719612Z",
     "shell.execute_reply": "2023-04-04T17:39:10.718510Z"
    },
    "papermill": {
     "duration": 0.016222,
     "end_time": "2023-04-04T17:39:10.721851",
     "exception": false,
     "start_time": "2023-04-04T17:39:10.705629",
     "status": "completed"
    },
    "tags": []
   },
   "outputs": [],
   "source": [
    "#CREDITS:"
   ]
  },
  {
   "cell_type": "code",
   "execution_count": 23,
   "id": "60d7e07e",
   "metadata": {
    "editable": false,
    "execution": {
     "iopub.execute_input": "2023-04-04T17:39:10.740213Z",
     "iopub.status.busy": "2023-04-04T17:39:10.739845Z",
     "iopub.status.idle": "2023-04-04T17:39:10.744206Z",
     "shell.execute_reply": "2023-04-04T17:39:10.743083Z"
    },
    "papermill": {
     "duration": 0.01634,
     "end_time": "2023-04-04T17:39:10.746473",
     "exception": false,
     "start_time": "2023-04-04T17:39:10.730133",
     "status": "completed"
    },
    "tags": []
   },
   "outputs": [],
   "source": [
    "#PRE-PROCESSING: VISHNUVARTHAN V K (DS225229147)"
   ]
  },
  {
   "cell_type": "code",
   "execution_count": 24,
   "id": "9d17eddd",
   "metadata": {
    "editable": false,
    "execution": {
     "iopub.execute_input": "2023-04-04T17:39:10.765371Z",
     "iopub.status.busy": "2023-04-04T17:39:10.764981Z",
     "iopub.status.idle": "2023-04-04T17:39:10.769211Z",
     "shell.execute_reply": "2023-04-04T17:39:10.768199Z"
    },
    "papermill": {
     "duration": 0.016317,
     "end_time": "2023-04-04T17:39:10.771341",
     "exception": false,
     "start_time": "2023-04-04T17:39:10.755024",
     "status": "completed"
    },
    "tags": []
   },
   "outputs": [],
   "source": [
    "#VECTORIZATION AND DATA EXPLORATION: YUVARAJ R (DS225229149)"
   ]
  },
  {
   "cell_type": "code",
   "execution_count": 25,
   "id": "521282dc",
   "metadata": {
    "editable": false,
    "execution": {
     "iopub.execute_input": "2023-04-04T17:39:10.789954Z",
     "iopub.status.busy": "2023-04-04T17:39:10.789522Z",
     "iopub.status.idle": "2023-04-04T17:39:10.794211Z",
     "shell.execute_reply": "2023-04-04T17:39:10.793171Z"
    },
    "papermill": {
     "duration": 0.016811,
     "end_time": "2023-04-04T17:39:10.796445",
     "exception": false,
     "start_time": "2023-04-04T17:39:10.779634",
     "status": "completed"
    },
    "tags": []
   },
   "outputs": [],
   "source": [
    "#MODEL BUILDING: INFANT YEHOSHUA J (DS225229115)"
   ]
  },
  {
   "cell_type": "code",
   "execution_count": 26,
   "id": "fdd9e0a8",
   "metadata": {
    "editable": false,
    "execution": {
     "iopub.execute_input": "2023-04-04T17:39:10.815317Z",
     "iopub.status.busy": "2023-04-04T17:39:10.814965Z",
     "iopub.status.idle": "2023-04-04T17:39:10.819214Z",
     "shell.execute_reply": "2023-04-04T17:39:10.817960Z"
    },
    "papermill": {
     "duration": 0.016406,
     "end_time": "2023-04-04T17:39:10.821585",
     "exception": false,
     "start_time": "2023-04-04T17:39:10.805179",
     "status": "completed"
    },
    "tags": []
   },
   "outputs": [],
   "source": [
    "#METRICS CALCULATION: BALA MURUGAN P (DS225229150)"
   ]
  }
 ],
 "metadata": {
  "kernelspec": {
   "display_name": "Python 3 (ipykernel)",
   "language": "python",
   "name": "python3"
  },
  "language_info": {
   "codemirror_mode": {
    "name": "ipython",
    "version": 3
   },
   "file_extension": ".py",
   "mimetype": "text/x-python",
   "name": "python",
   "nbconvert_exporter": "python",
   "pygments_lexer": "ipython3",
   "version": "3.9.12"
  },
  "papermill": {
   "default_parameters": {},
   "duration": 1384.939073,
   "end_time": "2023-04-04T17:39:11.654630",
   "environment_variables": {},
   "exception": null,
   "input_path": "__notebook__.ipynb",
   "output_path": "__notebook__.ipynb",
   "parameters": {},
   "start_time": "2023-04-04T17:16:06.715557",
   "version": "2.4.0"
  }
 },
 "nbformat": 4,
 "nbformat_minor": 5
}
