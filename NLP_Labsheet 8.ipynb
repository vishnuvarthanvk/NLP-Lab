{
 "cells": [
  {
   "cell_type": "markdown",
   "id": "61624fe4",
   "metadata": {},
   "source": [
    "# 225229147"
   ]
  },
  {
   "cell_type": "markdown",
   "id": "890c254e",
   "metadata": {},
   "source": [
    "# Lab 8: Exploring POS of Large Text Files"
   ]
  },
  {
   "cell_type": "code",
   "execution_count": 1,
   "id": "c02f592e",
   "metadata": {},
   "outputs": [],
   "source": [
    "#1.open any movie file your movies sub directory\n",
    "import nltk\n",
    "import pandas as pd\n",
    "from nltk import *\n",
    "from zipfile import ZipFile\n",
    "from zipfile import *\n",
    "from nltk.corpus import stopwords\n",
    "stop_words = set(stopwords.words('english'))"
   ]
  },
  {
   "cell_type": "code",
   "execution_count": 2,
   "id": "a48351a4",
   "metadata": {
    "scrolled": true
   },
   "outputs": [
    {
     "name": "stdout",
     "output_type": "stream",
     "text": [
      "File Name                                             Modified             Size\n",
      "movies/                                        2018-01-19 08:32:38            0\n",
      "movies/12 Angry Men.txt                        2018-01-17 20:40:42         1007\n",
      "movies/12 Years a Slave.txt                    2018-01-17 20:42:50         6451\n",
      "movies/4 Months, 3 Weeks and 2 Days.txt        2018-01-17 20:37:10         1151\n",
      "movies/All About Eve.txt                       2018-01-17 20:33:18         1346\n",
      "movies/American Graffiti.txt                   2018-01-17 20:44:30         3417\n",
      "movies/Boyhood.txt                             2018-01-17 20:27:14         1970\n",
      "movies/Casablanca.txt                          2018-01-17 20:26:26         1896\n",
      "movies/Citizen Kane.txt                        2018-01-17 20:23:56         1483\n",
      "movies/Gone with the Wind.txt                  2018-01-17 20:38:10         1318\n",
      "movies/Hoop Dreams.txt                         2018-01-17 20:34:12         7909\n",
      "movies/Manchester by the Sea.txt               2018-01-17 20:40:06         3674\n",
      "movies/Moonlight.txt                           2018-01-17 20:31:42         2323\n",
      "movies/My Left Foot.txt                        2018-01-17 20:38:50         1115\n",
      "movies/Pan's Labyrinth.txt                     2018-01-17 20:32:18         4431\n",
      "movies/Psycho.txt                              2018-01-17 20:34:46         3727\n",
      "movies/Ran.txt                                 2018-01-17 20:43:48         2207\n",
      "movies/Singin' in the Rain.txt                 2018-01-17 20:29:42          782\n",
      "movies/Some Like It Hot.txt                    2018-01-17 20:35:40         7489\n",
      "movies/The Godfather.txt                       2018-01-17 20:25:32         4293\n",
      "movies/Three Colors Red.txt                    2018-01-17 20:28:22         2892\n"
     ]
    }
   ],
   "source": [
    "with ZipFile('movies.zip', 'r') as z:\n",
    "    z.printdir()"
   ]
  },
  {
   "cell_type": "code",
   "execution_count": 3,
   "id": "3cc183e8",
   "metadata": {},
   "outputs": [],
   "source": [
    "z.close()"
   ]
  },
  {
   "cell_type": "code",
   "execution_count": 4,
   "id": "ca1d995a",
   "metadata": {},
   "outputs": [
    {
     "name": "stdout",
     "output_type": "stream",
     "text": [
      "File Name                                             Modified             Size\n",
      "movies/                                        2018-01-19 08:32:38            0\n",
      "movies/12 Angry Men.txt                        2018-01-17 20:40:42         1007\n",
      "movies/12 Years a Slave.txt                    2018-01-17 20:42:50         6451\n",
      "movies/4 Months, 3 Weeks and 2 Days.txt        2018-01-17 20:37:10         1151\n",
      "movies/All About Eve.txt                       2018-01-17 20:33:18         1346\n",
      "movies/American Graffiti.txt                   2018-01-17 20:44:30         3417\n",
      "movies/Boyhood.txt                             2018-01-17 20:27:14         1970\n",
      "movies/Casablanca.txt                          2018-01-17 20:26:26         1896\n",
      "movies/Citizen Kane.txt                        2018-01-17 20:23:56         1483\n",
      "movies/Gone with the Wind.txt                  2018-01-17 20:38:10         1318\n",
      "movies/Hoop Dreams.txt                         2018-01-17 20:34:12         7909\n",
      "movies/Manchester by the Sea.txt               2018-01-17 20:40:06         3674\n",
      "movies/Moonlight.txt                           2018-01-17 20:31:42         2323\n",
      "movies/My Left Foot.txt                        2018-01-17 20:38:50         1115\n",
      "movies/Pan's Labyrinth.txt                     2018-01-17 20:32:18         4431\n",
      "movies/Psycho.txt                              2018-01-17 20:34:46         3727\n",
      "movies/Ran.txt                                 2018-01-17 20:43:48         2207\n",
      "movies/Singin' in the Rain.txt                 2018-01-17 20:29:42          782\n",
      "movies/Some Like It Hot.txt                    2018-01-17 20:35:40         7489\n",
      "movies/The Godfather.txt                       2018-01-17 20:25:32         4293\n",
      "movies/Three Colors Red.txt                    2018-01-17 20:28:22         2892\n"
     ]
    }
   ],
   "source": [
    "z=ZipFile('movies.zip','r')\n",
    "z.printdir()"
   ]
  },
  {
   "cell_type": "code",
   "execution_count": 5,
   "id": "78c9fe0f",
   "metadata": {},
   "outputs": [
    {
     "name": "stdout",
     "output_type": "stream",
     "text": [
      "lumet's origins as a director of teledrama may well be obvious here in his first film, but there is no denying the suitability of his style - sweaty close-ups, gritty monochrome 'realism', one-set claustrophobia - to his subject. scripted by reginald rose from his own teleplay, the story is pretty contrived - during a murder trial, one man's doubts about the accused's guilt gradually overcome the rather less-than-democratic prejudices of the other eleven members of the jury - but the treatment is tense, lucid, and admirably economical. fonda, though typecast as the bastion of liberalism, gives a nicely underplayed performance, while cobb, marshall and begley in particular are highly effective in support. but what really transforms the piece from a rather talky demonstration that a man is innocent until proven guilty, is the consistently taut, sweltering atmosphere, created largely by boris kaufman's excellent camerawork. the result, however devoid of action, is a strangely realistic thriller.\n",
      "there are movies to which the critical response lags far behind the emotional one. two days after seeing 12 years a slave, british director steve mcqueen’s adaptation of the 1853 memoir of a free black man kidnapped into slavery, i’m still awaiting delivery of the apparatus that would permit me to analyze it. so overpowering is this film’s simple, horrible, and almost entirely true story—and so impressive the feats of acting, cinematography, historical research, and set and costume design that conspire to bring that story to us—that it’s hard to get enough distance on 12 years a slave to poke at its inner workings. i want to try, though—if only because it’s that tendency to overwhelm the viewer that strikes me as this generally stunning movie’s chief flaw.\r\n",
      "\r\n",
      "one of the first observations to make about 12 years a slave is that it’s lushly, paradoxically gorgeous: a beautiful film about the ugliest of subjects. mcqueen got his start as an experimental video artist, and his compositions and lighting choices are often exquisitely painterly. he loves to use the contemplative insert shots—often focusing on a detail from nature—known as “pillow shots”: cypress trees reflected in peach-colored bayous at sunset, caterpillars crawling over cotton bolls. the early scenes, in which solomon northup (chiwetel ejiofor) is still a free and relatively prosperous man living with his wife and two children in saratoga springs, n.y., unfold in an almost gauzy glow of memory (framed by an opening scene of solomon, now renamed “platt,” as he works in a field of sugarcane).\r\n",
      "\r\n",
      "after solomon, a part-time violinist, is promised a lucrative gig by two white men who run a kind of traveling circus, he’s drugged and wakes up in a brick cell in shackles. along with some other captured blacks—some free, some not—solomon is transported by boat to the south, where he’s sold to a series of increasingly bad masters. first comes william ford (benedict cumberbatch), a pious, well-meaning hypocrite who sees no contradiction between preaching scripture to his slaves on sunday and forever separating a mother (adepero oduye) from her children. that separation happens in a starkly staged, rigorously unsentimentalized auction scene that’s one of the film’s hardest to watch, and to forget. one of ford’s petty overseers, the loathsome tibeats (paul dano, taking a little too much pleasure in his own villainy), takes a particular dislike to the initially defiant solomon, and goads him into a fight that will result not only in solomon’s near-fatal torture, but his sale to the cotton farmer edwin epps (michael fassbender).\r\n",
      "\r\n",
      "if solomon is the film’s moral center, epps is its moral black hole, an alcoholic psycho who sometimes forces his exhausted slaves to dance for him into the wee hours of the morning. (grand guignol as it sounds, this horrific detail is true to northup’s narrative.) and that’s one of the nicer things he does: in darker moods, epps is prone to chasing the people he calls “my property” around the pigsty with a knife or whipping them till the flesh flies off their backs. his sexual obsession with his beautiful young slave patsey (the astonishing lupita nyong’o) means that she is subject both to near-nightly rape and to random abuse from epps’ jealous, neglected wife (an excellent sarah paulson).\r\n",
      "\r\n",
      "the long stretch of the film that takes place at epps’ plantation contains the best examples both of mcqueen’s artistry and his occasional tendency to gild the lily. in this section, he explores, with remarkable attention to behavioral nuance, a rich array of social relationships governed by the institution of slavery—not just master and slave but mistress and slave, shopkeeper and slave, and most of all, slave and slave. the well-kept mistress of a neighboring plantation owner (alfre woodard) tries to convince patsey that life as a sexual prisoner has its comparative advantages, ignoring the fact that patsey’s owner both rapes her and makes her work harder than any man in the cotton fields. later, patsey and solomon become close allies after she begs him to put an end to her misery by killing her, in a scene that’s as painful as it is sublimely acted. mcqueen is particularly adept at exploring the intense yet guarded nature of relationships among the slaves, for whom friendship—not to speak of love—is a dangerous and necessarily transitory proposition.  \r\n",
      "\r\n",
      "but in a climactic set piece in which solomon is forced by a gun-wielding epps to whip patsey nearly to death, i sometimes felt smothered by mcqueen’s insistence on wallowing in the extremes of human anguish. mcqueen has been accused in the past of aestheticizing suffering, a critique which seems fairer to make of his two previous features (hunger and shame) than of this one. hunger, in which michael fassbender starves himself before our eyes as the irish hunger striker bobby sands, and shame, in which fassbender plays a man sinking into a swamp of sex addiction, both struck me as movies with unpleasantly sadistic relationships to their audience: let’s see how much human suffering and moral degradation you can take. when the subject matter is a historical horror on the order of slavery, mcqueen’s miserablist approach would seem to make a kind of sense—but you could also argue that solomon’s dehumanizing ordeal is powerful enough in itself to need minimal directorial underlining. and though fassbender is electrifying as epps—he gives a broad, kinetic, constantly menacing performance that strikes sparks off ejiofor’s quieter, steadier one—there’s sometimes a sense that the script (by john ridley) uses the character as an all-purpose scare machine, the red-bearded equivalent of the shark in jaws. i was terrified of epps, but i’m not sure i left the movie with any sense of who he was, other than the most nightmarish master imaginable. maybe that’s all we needed to know.\r\n",
      "\r\n",
      "none of these quibbles matters, though, by the time you get to the soul-rending last scene of 12 years a slave, when a stunned solomon at last comes home to his wife and now-grown children after more than a decade of hard labor and isolation, so damaged by the years he’s lost he seems scarcely able to remember what bodily autonomy feels like. it’s the unhappiest happy ending i’ve ever seen, a moment that makes you weep not just for this one man who found his way back to freedom, but for all those men and women who never knew it in the first place.\n",
      "drama about a black market abortion in communist romania. (1:53) unrated: language, nudity, disturbing images. at ifc center, lincoln plaza. in romanian with subtitles.\r\n",
      "\r\n",
      "this year’s foreign language oscar scandal – there is always at least one – is the snub of director cristian mungiu’s disturbing, masterful realist drama following two college roommates as they carry out plans for one’s black market abortion in communist romania. winner of last year’s gold palm at cannes, \"4 months\" paints a stark portrait of social repression in the last days of rule by nicolai ceauºescu.\r\n",
      "\r\n",
      "\"4 months\" centers on otilia (anamaria marinca), a stoic tech student from a working class family who goes to heroic lengths to protect her pregnant, virtually helpless and generally ungrateful roommate gabita (laura vasiliu). the day’s events, which include an awkward time-out for otilia with her boyfriend’s patronizing family and dealing with an abortionist (vlad ivanov) who demands sex from both women before doing his job, makes this a true horror story.\r\n",
      "\r\n",
      "gabita may remind everyone of a person they’ve known while otilia is the friend everyone should have.\n",
      "some of the best news from the upcoming new york film festival is the complete retrospective of the films of joseph l. mankiewicz (oct. 1-14), whose most celebrated film, “all about eve,” from 1950, i discuss in this clip. not that oscars are a mark of true quality, but in this case the academy did itself proud, because the movie won six (including best picture and, for mankiewicz himself, best director and best screenplay) and was nominated for eight more—tellingly, two for best actress (bette davis and anne baxter) and two for best supporting actress (celeste holm and thelma ritter). but the movie’s fame shouldn’t get in the way of our appreciating its particulars and looking at them anew. there will be more to say about mankiewicz as the retrospective approaches; in general, he mixes analytical intelligence with practical wit. the irony of “all about eve” has such a broad reach that it’s easily missed; it takes off from the movie’s very subject, a great diva of the stage named margo channing, played by bette davis. she’s rarely seen onstage; she gives her greatest performances in private, for friends and colleagues and enemies—and for mankiewicz’s camera. “all about eve” is one of the greatest movies about theatre—an idea that, in itself, opens an ironic abyss into which mankiewicz spelunks with an impish, riotous aplomb.\n",
      "at dusk the cars begin to congregate. the drivers, kids in their teens, meet and greet and happily insult one another. a few couples, going steady, may pair off. there is a high school dance, but there is also the lure of the main street to cruise up and down, exchanging pleasantries, looking for dates, for excitement, an impromptu race, even a little danger. every radio in town is tuned in to wolfman jack with his line of eerie patter and all the latest hits—\"sixteen candles,\" \"the book of love\"...it is early in the fall of 1962, somewhere in northern california.\r\n",
      "\r\n",
      "two of the boys, curt henderson and steve bolander, headed east to college, are uneasy at the prospect. john milner, champion drag racer, is twenty-two—old enough to know he's headed nowhere, except up to the neon-lighted circle of mel's drive-in and perhaps down to the stillness of the automobile graveyard at the edge of town. those are roughly the perimeters of george lucas's american graffiti, which examines that much of america as it lives for about twelve hours, from an evening to the following morning.\r\n",
      "\r\n",
      "a lot happens. steve (ronny howard) breaks up and makes up with curt's sister laurie (cindy williams). a younger boy, terry, (charlie martin smith) borrows steve's chevy, picks up a dizzy blonde (candy clark) for a night of horrendous misadventures, all greatly to her pleasure.\r\n",
      "\r\n",
      "john (paul le mat) enters the climactic drag race of his career. curt (richard dreyfuss), the local intellectual, is almost inducted into the pharaohs, the town gang. but curt is following a vision, an elusive girl in a white thunderbird who may have whispered \"i love you.\" he never finds her. but when, in the morning, he takes off (via magic carpet airlines), a white t-bird heads east on the road below. it is the only car we ever see leaving town.\r\n",
      "\r\n",
      "american graffiti exists not so much in its individual stories as in its orchestration of many stories, its sense of time and place. although it is full of the material of fashionable nostalgia, it never exploits nostalgia. in its feeling for movement and music and the vitality of the night—and even in its vision in white—it is oddly closer to some early fellini than to the recent american past of, say, the last picture show or summer of '42.\r\n",
      "\r\n",
      "it is a very good movie, funny, tough, unsentimental. it is full of marvelous performances from actors (especially candy clark, richard dreyfuss, and cindy williams) hardly known for previous screen credits. but for me its excitement comes at least partly from its indication of what may be a major new career.\r\n",
      "\r\n",
      "george lucas, twenty-eight years old, has made one previous feature. it is a good science fiction film, thx 1138, about a closed, tranquilized future society, controlled by mysterious broadcast voices, and from which there is almost no escape. for all its apparent differences, american graffiti really presents the obverse of that world—now beneficent, familiar; but also closed, tuned in to mysterious voices, and offering almost no means of escape.\r\n",
      "\r\n",
      "the ways in which they are like each other are fascinating, and very much in keeping with the kinds of continuity the best directors have sustained from film to film. and somehow the persistence of an idea, reshaped and re-examined, gives me even greater joy than the specific pleasures of american graffiti.\r\n",
      "\r\n",
      "american graffiti opened yesterday at the sutton theater.\n",
      "richard linklater’s astonishing new film, boyhood, was shot over a dozen years beginning in 2002. the movie’s magic trick is that every 12 months or so linklater gathered the same actors for a few days to check in on their characters’ lives, ultimately weaving an intimate and affecting coming-of-age tapestry of a young texas kid named mason (ellar coltrane). like michael apted in his seven up! documentary series, linklater makes you feel as if you’re watching a photograph as it develops in the darkroom. it’s only at the end that you realize you’ve just seen a child slowly come into focus as a young man.\r\n",
      "\r\n",
      "as mason’s time-lapse journey begins, he’s an adorable, innocent 6-year-old boy with a mop of sandy brown hair doing what 6-year-old boys do: watching cartoons, gawking at a lingerie catalog, being tortured by his older sister (played by the director’s daughter, lorelei linklater). but then we meet his divorced parents (ethan hawke and patricia arquette, both remarkable), and we catch a glimpse of mason’s inner sadness. he hears each shouting match, sees each passive-aggressive gesture, and internalizes them. about every 10 minutes, the movie jumps ahead and mason changes slightly — his hair is longer (or shorter), his voice lower. linklater has smartly chosen not to make any one chapter too profound or eventful (although one with an abusive, alcoholic stepfather is a doozy). he taps into the rambling naturalism of his before sunrise, before sunset, and before midnight films to show how the events that define us are sometimes the most banal, like a father-and-son campfire conversation about star wars.\r\n",
      "\r\n",
      "by the end of boyhood, it’s clear how lucky linklater was to find coltrane. and vice versa. there’s an unfakable curiosity and vulnerability behind the young actor’s dreamy, half-mast eyes. he makes you not only care about mason but ache for him, and pray that everything will turn out okay…even after linklater’s camera stops rolling. \n",
      "while growing up in the wilds of essex, one of this reviewer’s prized possessions was a frame-by-frame picture book showing every scene of this 1942 classic, now reissued to celebrate its 70th anniversary.\r\n",
      "\r\n",
      "many hours were spent scanning its glossy images, imitating humphrey bogart’s drawl and imagining ‘la marseillaise’ drowning out ‘die wacht am rhein’ at rick’s café américain.\r\n",
      "\r\n",
      "in the years that followed, many more were spent enjoying michael curtiz’s masterpiece on screens big and small – plenty of time to fall for ingrid bergman (as bogart’s former lover ilsa), warm to police chief claude rains and learn the lyrics to ‘as time goes by’.\r\n",
      "\r\n",
      "that casablanca could still work its wonders on the page is surely a mark of its lasting brilliance, not to mention a tribute to an endlessly quotable script that has seen six of its lines included in the afi’s greatest cinema quotes.\r\n",
      "\r\n",
      "yet were you to come to this film blissfully oblivious to its landmark status, what would one find? only a peerless example of hollywood studio moviemaking, director michael curtiz turning the warner backlot into a gloriously romantic vision of ww2-era morocco crammed with real-life european exiles and larger-than-life character actors.\r\n",
      "\r\n",
      "thanks to dop arthur edeson it also succeeds as a quintessential noir, full of moody shadows, chiaroscuro and expressionist lighting.\r\n",
      "\r\n",
      "you’ll rarely see a finer use of flashback either, rick’s (bogart) drunken haze segueing into a paris interlude that eventually comes to a close in a deluge of rain. and we haven’t even mentioned the clothes, bogie’s trenchcoat and bergman’s trilby setting a template for ’40s glamour that will last forever.\r\n",
      "\r\n",
      "whether you return to casablanca for a nostalgia fix, a guilty pleasure or for the waters, you can be certain there’ll be something you didn’t notice last time out. here’s looking at you, kid – again and again.\n",
      "orson welles' 1941 movie \"citizen kane,\" which heads the american film institute's list of the top 100 films of all time, has the best of everything: a great director and star, innovative cinematography, dreamlike - even nightmarish - art direction, a sonorous musical score, a skillful screenplay in which comic passages intensify the movie's tragic qualities by means of their grotesque juxtaposition (how lifelike!), a psychological / narrative form that predates our contemporary\r\n",
      "\r\n",
      "\"psycho-histories\" by at least 40 years, and best of all, a memorial word that, when spoken, recalls the film out of thin air.\r\n",
      "\r\n",
      "this monument of a movie will be shown in a brand new print at the amc 1000 van ness starting friday. people who've never encountered \"kane,\" a celluloid biography of newspaper publisher william randolph hearst (actually, it's more of a metaphor for the man's life than a recounting of its details) will, at last, be able to see why the film has been so highly praised.\r\n",
      "\r\n",
      "welles was only 25 when he made \"kane\" and it was his first movie. the imaginative director of photography gregg toland jumped at the chance to assist such a novice because he knew welles had no idea of what could not or should not be done in terms of conventional cinematography. toland realized that, by working with a young man of enormous poetic aptitude, but one who was not restrained by practical knowledge of filmmaking, he'd be free to push the pictorial limits of cinema, and he did.\n",
      "for contemporary moviegoers, gone with the wind (new line) offers a veritable shock of pleasure—a shock enhanced by, though hardly dependent on, the dazzlingly saturated new prints that have been struck for the current rerelease, with the images reproduced in their original box-like aspect ratio. (you never knew a square could be this voluptuous.) more than a gorgeous monument, gone with the wind, along with citizen kane, is probably the darkest great movie ever produced within the studio system. a riveting tragedy of neurotic self-destruction, it fixes its gaze on scarlett o’hara, the firebrand dixie princess, as she ricochets with blind abandon between her southern-belle fantasies and her ruthless heart, between her abstract crush on ashley wilkes and her hunka burnin’ lust for rhett butler (the man she hates herself for loving because he’s as big a scoundrel as she is). the film starts out as bedazzled historical romance, but in the haunting final hour it morphs into a technicolor-gothic scenes from a marriage, with vivien leigh—now flirting, now raging, now smiling to heaven through tears—etching an indelible vision of feminine strength and self-delusion. to see gone with the wind on a big screen again is to weep for the fearlessness with which hollywood once believed the sublime was possible.\n",
      "a film like \"hoop dreams\" is what the movies are for. it takes us, shakes us, and make us think in new ways about the world around us. it gives us the impression of having touched life itself.\r\n",
      "\r\n",
      "\"hoop dreams\" is, on one level, a documentary about two african-american kids named william gates and arthur agee, from chicago's inner city, who are gifted basketball players and dream of someday starring in the nba. on another level, it is about much larger subjects: about ambition, competition, race and class in our society. about our value structures. and about the daily lives of people like the agee and gates families, who are usually invisible in the mass media, but have a determination and resiliency that is a cause for hope.\r\n",
      "\r\n",
      "the movie spans six years in the lives of william and arthur, starting when they are in the eighth grade, and continuing through the first year of college. it was intended originally to be a 30-minute short, but as the filmmakers followed their two subjects, they realized this was a much larger, and longer story. and so we are allowed to watch the subjects grow up during the movie, and this palpable sense of the passage of time is like walking for a time in their shoes.\r\n",
      "\r\n",
      "they're spotted during playground games by a scout for st. joseph's high school in west suburban westchester, a basketball powerhouse. attending classes there will mean a long daily commute to a school with few other black faces, but there's never an instant when william or arthur, or their families, doubt the wisdom of this opportunity: st. joseph's, we hear time and again, is the school where another inner-city kid, isiah thomas, started his climb to nba stardom.\r\n",
      "\r\n",
      "one image from the film: gates, who lives in the cabrini green project, and agee, who lives on chicago's south side, get up before dawn on cold winter days to begin their daily 90-minute commute to westchester. the street lights reflect off the hard winter ice, and we realize what a long road - what plain hard work - is involved in trying to get to the top of the professional sports pyramid. other high school students may go to \"career counselors,\" who steer them into likely professions. arthur and william are working harder, perhaps, than anyone else in their school - for jobs which, we are told, they have only a .00005 percent chance of winning.\r\n",
      "\r\n",
      "we know all about the dream. we watch michael jordan and isiah thomas and the others on television, and we understand why any kid with talent would hope to be out on the same courts someday. but \"hoop dreams\" is not simply about basketball. it is about the texture and reality of daily existence in a big american city. and as the film follows agee and gates through high school and into their first year of college, we understand all of the human dimensions behind the easy media images of life in the \"ghetto.\"\r\n",
      "\r\n",
      "we learn, for example, of how their extended families pull together to help give kids a chance. how if one family member is going through a period of trouble (arthur's father is fighting a drug problem), others seem to rise to periods of strength. how if some family members are unemployed, or if the lights get turned off, there is also somehow an uncle with a big back yard, just right for a family celebration. we see how the strong black church structure provides support and encouragement - how it is rooted in reality, accepts people as they are, and believes in redemption.\r\n",
      "\r\n",
      "and how some people never give up. arthur's mother asks the filmmakers, \"do you ever ask yourself how i get by on $268 a month and keep this house and feed these children? do you ever ask yourself that question?\" yes, frankly, we do. but another question is how she finds such determination and hope that by the end of the film, miraculously, she has completed her education as a nursing assistant.\r\n",
      "\r\n",
      "\"hoop dreams\" contains more actual information about life as it is lived in poor black city neighborhoods than any other film i have ever seen.\r\n",
      "\r\n",
      "because we see where william and arthur come from, we understand how deeply they hope to transcend - to use their gifts to become pro athletes. we follow their steps along the path that will lead, they hope, from grade school to the nba.\r\n",
      "\r\n",
      "the people at st. joseph's high school are not pleased with the way they appear in the film, and have filed suit, saying among other things that they were told the film would be a non-profit project to be aired on pbs, not a commercial venture. the filmmakers respond that they, too, thought it would - that the amazing response which has found it a theatrical release is a surprise to them. the movie simply turned out to be a masterpiece, and its intended non-commercial slot was not big enough to hold it. the st. joseph suit reveals understandable sensitivity, because not all of the st.\r\n",
      "\r\n",
      "joseph people come out looking like heroes.\r\n",
      "\r\n",
      "it is as clear as night and day that the only reason arthur agee and william gates are offered scholarships to st. joseph's in the first place is because they are gifted basketball players. they are hired as athletes as surely as if they were free agents in pro ball; suburban high schools do not often send scouts to the inner city to find future scientists or teachers.\r\n",
      "\r\n",
      "both sets of parents are required to pay a small part of the tuition costs. when gates' family cannot pay, a member of the booster club pays for him - because he seems destined to be a high school all-american. arthur at first does not seem as talented. and when he has to drop out of the school because his parents have both lost their jobs, there is no sponsor for him. instead, there's a telling scene where the school refuses to release his transcripts until the parents have paid their share of his tuition.\r\n",
      "\r\n",
      "the morality here is clear: st. joseph's wanted arthur, recruited him, and would have found tuition funds for him if he had played up to expectations.\r\n",
      "\r\n",
      "when he did not, the school held the boy's future as hostage for a debt his parents clearly would never have contracted if the school's recruiters had not come scouting grade school playgrounds for the boy. no wonder st. joseph's feels uncomfortable. its behavior seems like something out of dickens. the name scrooge comes to mind.\r\n",
      "\r\n",
      "gene pingatore, the coach at st. joseph's, is a party to the suit (which actually finds a way to plug the isiah thomas connection). he feels he's seen in an unattractive light. i thought he came across fairly well. like all coaches, he believes athletics are a great deal more important than they really are, and there is a moment when he leaves a decision to gates that gates is clearly not well-prepared to make. but it isn't pingatore but the whole system that is brought into question: what does it say about the values involved, when the pro sports machine reaches right down to eighth-grade playgrounds?\r\n",
      "\r\n",
      "but the film is not only, or mostly, about such issues. it is about the ebb and flow of life over several years, as the careers of the two boys go through changes so amazing that, if this were fiction, we would say it was unbelievable. the filmmakers (steve james, frederick marx and peter gilbert) shot miles of film, 250 hours in all, and that means they were there for several of the dramatic turning-points in the lives of the two young men. for both, there are reversals of fortune - life seems bleak, and then is redeemed by hope and sometimes even triumph. i was caught up in their destinies as i rarely am in a fiction thriller, because real life can be a cliff-hanger, too.\r\n",
      "\r\n",
      "many filmgoers are reluctant to see documentaries, for reasons i've never understood; the good ones are frequently more absorbing and entertaining than fiction. \"hoop dreams,\" however, is not only a documentary. it is also poetry and prose, muckraking and expose, journalism and polemic. it is one of the great moviegoing experiences of my lifetime.\n",
      "in “manchester by the sea,” a death in the family forces a solitary man to let the world back into his life — at least for a while. lee (casey affleck) works as a handyman in boston, unclogging people’s toilets, fixing leaks and shoveling snow from walkways. he’s quiet, mostly polite and keeps to himself inside his drab basement apartment. when a woman at a bar flirts with him, he doesn’t reciprocate; you can almost see him recoil from having to interact with another human being outside of work.\r\n",
      "\r\n",
      "lee’s daily routine seems lonely and more than a little sad, but it suits him just fine: he has chosen this. then lee gets a phone call from home. his older brother joe (kyle chandler) has suffered a heart attack. by the time lee makes the 90-minute drive down to his hometown of manchester and gets to the hospital, joe has passed away. the doctors express their awkward condolences.\r\n",
      "\r\n",
      "lee must now begin the process of settling his brother’s affairs — including what to do with his 15-year-old nephew, patrick (lucas hedges). lee won’t get any help from his ex-wife, randi (michelle williams), or patrick’s mother (gretchen mol): they are both estranged from the family for reasons writer-director kenneth lonergan reveals gradually, through flashbacks that show lee used to be a happy man — a loving husband, father and member of manchester’s fishing-industry community.\r\n",
      "\r\n",
      "what could have turned lee into such an inexpressive, detached loner? the answer, which is revealed halfway through the movie in a bravura bit of filmmaking, is worse than anything you might imagine: it’s unthinkable. but lonergan is less interested in tragedy than in how we cope with it. some of us figure out a way to mourn, forgive and move on, learning how to bear the extra weight of a heavy heart. others never recover.\r\n",
      "\r\n",
      "“manchester by the sea” is the third movie from lonergan about the aftermath of a sudden death (his first two were “you can count on me” and “margaret”). but this is also his funniest, nimblest picture: there are long stretches in it that could pass for a comedy. affleck’s performance as lee, a clenched fist of a man, has been rightly celebrated for giving depth to a character who could have come off as a cypher: affleck lets you see the wheels spinning inside lee’s head, even when his face is stony and blank.\r\n",
      "\r\n",
      "hedges is equally good as the teenage patrick, who is juggling two girlfriends, takes pleasure in busting his uncle’s chops and has a delayed reaction to the loss of his father (the death was not entirely unexpected, since joe suffered from congenital heart failure).\r\n",
      "\r\n",
      "in one scene, patrick needles lee about having to wait until spring to give his dad a proper burial, because the ground is frozen solid in winter. lonergan lets the conversation veer from humorous to poignant to funny again. you watch the sequence enraptured, because it reminds you of how real life never plays out in one single, neat, sustained tone, and how many movies do you see these days that bear even a passing resemblance to reality?\r\n",
      "\r\n",
      "in other spots, “manchester by the sea” makes you gasp at the enormity of the emotions these characters are feeling — williams has at least two tremendous moments— but lonergan never resorts to manipulation or contrivance. only one scene sputters: the casting of matthew broderick in a small role is an unnecessary distraction. but he’s not on the screen long enough to break the movie’s spell. “manchester by the sea” is the latest installment in a body of work from an artist fascinated by how life marches on, with or without us, and how we scramble to keep up. not everyone can, though. some wounds, even time can’t heal.\n",
      "the best scene in barry jenkins’s moonlight is also its longest. it depicts two men who, in their boyhood days, shared both a sexual experience and a violent episode and meet again after years apart at a close-to-empty diner, hesitantly exchanging information about the lives they’ve lived in the interim. chiron (trevante rhodes) grits through his grillz that, after a stint in juvenile detention, he’s “trappin’”; kevin (andré holland) talks of a marriage, kids, and an amiable divorce. throughout, jenkins negotiates a hybrid of the patient, real-time conversational moments recognizable in andrew haigh and richard linklater’s films, and the aesthetic sensualism favored by wong kar-wai and pedro almodóvar. it’s the one occasion here that jenkins gets that balance just right, allowing for both an interpersonal intimacy with his characters and a sensory understanding of their unspoken desires.\r\n",
      "\r\n",
      "the rest of moonlight, however, is burdened with not only setting up the dramatic weight of this particular encounter, but also developing the narrative leading toward another one: chiron’s reunion with his drug-addicted mother, paula (naomie harris). because jenkins has tasked himself with a story that spans three loosely defined eras (chiron as a child, a high school-aged student, and an adult) and concerns itself equally with two complex relationships (chiron and his mother, and chiron and kevin), much of the film becomes little more than a montage of life-shaping moments.\r\n",
      "\r\n",
      "collectively, these scenes register as histrionic because there are only broad strokes to contextualize them. at one point, a neighborhood drug dealer, juan (mahershala ali), who comes to mentor a young chiron (alex hibbert) imparts words of wisdom to the boy, but scenes later he’s gone, and precisely what his interest was in chiron is left unclear. likewise, the principal characters—from chiron’s mother to chiron himself—are defined almost exclusively by their roles in conflicts and reconciliations. harris in particular has to somehow create a believable arc from paula’s repeated, drug-addled berating and one late scene that depicts the mother soberly crying as she expresses her remorse. chiron, meanwhile, is never, at least until the last section of the film, much more than the sum of his interactions with other people.\n",
      "first and foremost, my left foot is the warm, romantic and moving true story of a remarkable man: the irish writer and painter christy brown born with cerebral palsy into an impoverished family. that it features a brilliant performance by daniel day-lewis and a fine supporting cast lifts it from mildly sentimental to excellent.\r\n",
      "\r\n",
      "at his birth, christy’s parents are told their child would be little more than a vegetable, but through his mother’s insistence that he fit in with family life, he shows intelligence and strength inside his paralyzed body.\r\n",
      "\r\n",
      "the older christy amazes his family by writing the word ‘mother’ on the floor with a piece of chalk gripped in his left foot. he goes on to become an artist # still using that left foot and is helped by therapist fiona shaw, with whom he falls in love.\r\n",
      "\r\n",
      "all performances are on the mark in this perfect little film [from brown’s own novel]. brenda fricker, as his loving and resilient mother, is excellent, as is the late ray mcanally as his bricklayer father. my left foot is not a sad film. in fact, there is a great deal of humor in day-lewis’s brown.\n",
      "let’s begin with the image from pan’s labyrinth i cannot get out of my mind for even a minute, that of the fantastic creature called the pale man. with no eyes in his hideous head, this subterranean scourge sits inert at his underworld dinner table halfway through guillermo del toro’s amazing fairy tale set in 1944 fascist spain, like the very incarnation of a faceless, dormant evil. he’s part real monster, part allegory; it may be best not to disturb him, but inevitably, adversity must be…faced. and when the fiend is aroused, by the presence of a brave young girl, to wreak havoc, he screws eyeballs with violently red pupils into his ugly, root-shaped hands, fingertips pointed and blackened as singed carrots. when not in use, the gelatinous orbs sit on a dinner plate like rejected hors d’oeuvres, like grapes of wrath.\r\n",
      "\r\n",
      "with his palms splayed in front of his voldemortian visage, the pale man — played by the director’s reliable american onscreen interpreter of weird, doug jones — is the most thrillingly creepy humanoid i’ve seen since the creeps in hellboy. actually, the pale man, and pan himself (also played by jones), shiver my timbers even more, since hellboy was like something out of a cracked superhero comic book while pan’s labyrinth is a deeply felt spanish-language history lesson, an adult fairy tale, and an outstanding work of art all at once. and it is no accident that del toro is the creator of both. from cronos through hellboy, the devil’s backbone (his other child’s-eye spanish history lesson), and blade ii, the mexican auteur has been working toward this supreme moment of cinematic synthesis, where art, pop, and political passion are perfectly mixed with his own unique, childlike access to the visual language of unfettered imagination. the movie is that original, and that attuned to the power of myth. i don’t see why it shouldn’t sit on the same altar of high fantasy as the lord of the rings trilogy — it’s that worthy.\r\n",
      "\r\n",
      "like any great myth, pan’s labyrinth encodes its messages through displays of magic. and like any good fairy tale, it is also embroidered with threads of death and loss. on the surface, here is the story of ofelia (preternaturally mature spanish newcomer ivana baquero), a lonely girl who arrives with her ailing, pregnant mother, carmen (ariadna gil), at the bunkerlike hideaway of steely captain vidal (sergi lópez from dirty pretty things). why the widowed carmen has given herself to such a fascist brute remains unexplained — her role is to carry his unborn child while he and his men pass their days murdering resistance fighters in the hills. all we know is that ofelia, a dreamy bookworm, submerges the sadness of her everyday existence with such inventiveness that it’s hard to tell where the real world ends and fantasy begins. in such a puzzle palace, she’s a lost princess, and the monsters she confronts (as every heroine must) are far more spectacular-looking than captain vidal and his chilling stare. (in truth, the great lópez, for whom del toro wrote the role, is a mesmerizing sight, instantly recognizable by the blue-gray death palette of his wardrobe, just as baquero is a vision in hues of tender green that suggest new growth.)\r\n",
      "\r\n",
      "this is a tale within a tale within a tale, a chameleon creation in which the actual and the symbolic intermingle so intuitively that we’re happy to divest ourselves of logic — to go with the flow suggested by the movie’s lulling, lingering seven-note musical theme. (javier navarrete’s simple signature tune is most haunting when sung or hummed, a cappella, in the voice of a girl or a woman.) the movie is also a breathtaking visual creation, a feat of hypnotism from cinematographer guillermo navarro, who gives even cg fairies and frogs their own shimmering dignity. the labyrinth ofelia negotiates is as twisty as a dream, and as in a dream, the detours are as rewarding as the main road. (y tu mamá también‘s maribel verdú plays the captain’s resourceful housekeeper, who secretly aids the hidden partisans and first introduces ofelia to the real garden maze on the grounds of the estate.)\r\n",
      "\r\n",
      "rated r, for some graphic, blood-spattering violence, pan’s labyrinth may for now be off-limits to the very viewers to whom the story is so respectfully dedicated. fair enough, so long as one day soon they’re granted admission to enter del toro’s magic kingdom, where adults can gasp at a filmmaker’s magic.\n",
      "on june 16, 1960, alfred hitchcock premiered his iconic mystery thriller psycho in new york, with secrecy as the theme when it came to the plot. the hollywood reporter's original review is below:\r\n",
      "\r\n",
      "new york — the great filmic talents of alfred hitchcock, his superb artistry, technical mastery, skill and planning are very much in evidence in psycho, his new paramount release which opened here yesterday in a special engagement prior to its general release in august. this is a first-rate mystery thriller, full of visual shocks and surprises which are heightened by the melodramatic realism of the production. it is certain to be one of the big grossers of the summer.\r\n",
      "\r\n",
      "hitchcock's insistence on secrecy concerning the plot during production and in the \"blind selling\" and exploitation campaign is completely justified by the surprise macabre ending. and, because of the nature of the film, with a key character being murdered in the first 20 minutes, the exhibition policy banning admissions after the start of the picture is appropriate to a complete understanding and enjoyment of the film. paramount has used these factors to very good advantage in its merchandising. \r\n",
      "\r\n",
      "the film opens with a typical hitchcock touch, a long slow pan shot, over the town of phoenix, arizona, swinging down to a hotel window to reveal a torrid love scene typical of the french \"new wave\" school. the main story is laid against the background of an isolated motel and an adjoining eerie mansion. as in all hitchcock films, the camera effects and explorations here are a vital and exciting element, establishing a weird realistic quality, sharpening the terror, building the suspense. \r\n",
      "\r\n",
      "there are two murders on camera and innumerable others referred to including a matricide. one of the murders, that of janet leigh, takes place while she is taking a shower and there is enough blood on screen to satisfy the most bloodthirsty movie fans. the other murder takes place at the top of a staircase and the camera follows the headlong fall of the blood covered murder victim all the way down the stairs. \r\n",
      "\r\n",
      "anthony perkins gives by far the best performance of his career in the title role. as the young, sensitive and amiable proprietor of the motel he maintains an appearance of innocence even while disposing of the remains of the murder victims purportedly killed by his mother. miss leigh is excellent as the young woman who steals $40,000 to buy off her unhappiness and solve her boyfriend's money problems, only to be murdered at the hotel. john gavin is very good as the boyfriend and vera miles is splendid as the devoted sister, both instrumental in solving the murders. martin balsam as a private investigator, john mcintire as a small town sheriff, and simon oakland as a psychiatrist contribute sharp and effective characterizations. \r\n",
      "\r\n",
      "maybe it's not cricket to give away the ending, but since hardly anyone plays cricket and since the picture's playing here you might as well know that perkins' psychotic split has him assuming the dual roles of himself and his mother. and, as hitchcock says, the mother is a homicidal maniac.\r\n",
      "\r\n",
      "joseph stefano's screenplay from the novel by robert block gives hitchcock an opportunity to use all his considerable talents in the building of a shocker which makes brilliant use of john l. russell's outstanding photography, bernard herrmann's highly effective musical score, the wonderfully atmospheric settings of george milo and the fine art direction of joseph burly and robert clatworthy. \r\n",
      "\r\n",
      "paramount won't let anyone enter theatres where psycho is playing after the picture starts. no one will want to leave before it is over. — jack harrison, originally published on june 17, 1960.\n",
      "at age 75, akira kurosawa, japan's greatest living director, created one more magnificent work that will surely stand the test of time. in ran, kurosawa turned to shakespeare for inspiration--as he had in throne of blood nearly 30 years before--and chose to film a japanese adaptation of\r\n",
      "\r\n",
      "\"king lear.\" set in 16th-century japan, ran (the japanese character for fury, revolt, and madness--chaos) begins as hidetora ichimonji (tatsuya nakadai), an aging warlord who has acquired power through 50 years of ruthless bloodshed, announces his intention to divide his kingdom among his three\r\n",
      "\r\n",
      "sons, each of whom will live at one of three outlying castles. while the elder sons thank him for the honor, the youngest calls his father senile and mad, noting--prophetically--that it will only be a matter of time until the ambitious brothers begin battling for possession of the whole domain. in\r\n",
      "\r\n",
      "the process, hidetora and his kingdom are consigned to a tragic and spectacular end. for more than 10 years, kurosawa wanted desperately to make ran, and, on the strength of kagemusha's success, he was finally able to obtain funding for this, the most expensive film ever made in japan (though the\r\n",
      "\r\n",
      "$11 million budget is small by hollywood standards). partly shot at two of that country's most revered landmarks (the ancient castles at himeji and kumamoto; the third castle was constructed of plastic and wood on the slopes of mount fuji), ran is a visually stunning epic, containing some of the\r\n",
      "\r\n",
      "most beautiful, colorful, breathtaking imagery ever committed to celluloid. as he grew older, kurosawa began to shoot his films in a more traditionally japanese style (static takes, little camera movement, no flamboyant editing). here, especially in the battle scenes, he adopts a detached,\r\n",
      "\r\n",
      "impassive camera, heightening the tragedy by giving the audience a godlike but powerless perspective on all the madness and folly unfolding onscreen. at the same time, kurosawa infuses the film with deep human emotion, aided by uniformly superb performances. the work of a mature artist in complete\r\n",
      "\r\n",
      "control of his medium, ran is a true cinematic masterwork of sight, sound, intelligence, and--most important--passion.\n",
      "the most enjoyable 102 minutes you’ll ever encounter in a cinema, singin’ in the rain is dazzling in its perfection: from the innocent exuberance of kelly, o’connor and reynolds, to the clutch of great songs (make ‘em laugh, you are my lucky star and the immortal title tune), from the stunningly simple staging of the dance numbers to the wit of the screenplay, the story of silent movie stars adapting to the sound era is shot through with a cleverness and sophistication rare for the genre.\r\n",
      "\r\n",
      "with so many films dedicated to the agonies of filmmaking, singin’ overflows with the pleasure of movie creation, stitching together references to hollywood history with more alacrity than tarantino. one of the highpoints of hoofin’ history but, more importantly, an unadulterated joy.\n",
      "what a work of art and nature is marilyn monroe. she hasn't aged into an icon, some citizen of the past, but still seems to be inventing herself as we watch her. she has the gift of appearing to hit on her lines of dialogue by happy inspiration, and there are passages in billy wilder's \"some like it hot\" where she and tony curtis exchange one-liners like hot potatoes.\r\n",
      "\r\n",
      "poured into a dress that offers her breasts like jolly treats for needy boys, she seems totally oblivious to sex while at the same time melting men into helpless desire. \"look at that!\" jack lemmon tells curtis as he watches her adoringly. \"look how she moves. like jell-o on springs. she must have some sort of built-in motor. i tell you, it's a whole different sex.\"\r\n",
      "\r\n",
      "wilder's 1959 comedy is one of the enduring treasures of the movies, a film of inspiration and meticulous craft, a movie that's about nothing but sex and yet pretends it's about crime and greed. it is underwired with wilder's cheerful cynicism, so that no time is lost to soppiness and everyone behaves according to basic darwinian drives. when sincere emotion strikes these characters, it blindsides them: curtis thinks he wants only sex, monroe thinks she wants only money, and they are as astonished as delighted to find they want only each other.\r\n",
      "\r\n",
      "the plot is classic screwball. curtis and lemmon play chicago musicians who disguise themselves as women to avoid being rubbed out after they witness the st. valentine's day massacre. they join an all-girl orchestra on its way to florida. monroe is the singer, who dreams of marrying a millionaire but despairs, \"i always get the fuzzy end of the lollipop.\" curtis lusts for monroe and disguises himself as a millionaire to win her. monroe lusts after money and gives him lessons in love. their relationship is flipped and mirrored in low comedy as lemmon gets engaged to a real millionaire, played by joe e. brown. \"you're not a girl!\" curtis protests to lemmon. \"you're a guy! why would a guy want to marry a guy?\" lemmon: \"security!\"\r\n",
      "\r\n",
      "the movie has been compared to marx brothers classics, especially in the slapstick chases as gangsters pursue the heroes through hotel corridors. the weak points in many marx brothers films are the musical interludes--not harpo's solos, but the romantic duets involving insipid supporting characters. \"some like it hot\" has no problems with its musical numbers because the singer is monroe, who didn't have a great singing voice but was as good as frank sinatra at selling the lyrics.\r\n",
      "\r\n",
      "consider her solo of \"i wanna be loved by you.\" the situation is as basic as it can be: a pretty girl standing in front of an orchestra and singing a song. monroe and wilder turn it into one of the most mesmerizing and blatantly sexual scenes in the movies. she wears that clinging, see-through dress, gauze covering the upper slopes of her breasts, the neckline scooping to a censor's eyebrow north of trouble. wilder places her in the center of a round spotlight that does not simply illuminate her from the waist up, as an ordinary spotlight would, but toys with her like a surrogate neckline, dipping and clinging as monroe moves her body higher and lower in the light with teasing precision. it is a striptease in which nudity would have been superfluous. all the time she seems unaware of the effect, singing the song innocently, as if she thinks it's the literal truth. to experience that scene is to understand why no other actor, male or female, has more sexual chemistry with the camera than monroe.\r\n",
      "\r\n",
      "capturing the chemistry was not all that simple. legends surround \"some like it hot.\" kissing marilyn, curtis famously said, was like kissing hitler. monroe had so much trouble saying one line (\"where's the bourbon?\") while looking in a dresser drawer that wilder had the line pasted inside the drawer. then she opened the wrong drawer. so he had it pasted inside every drawer.\r\n",
      "\r\n",
      "monroe's eccentricities and neuroses on sets became notorious, but studios put up with her long after any other actress would have been blackballed because what they got back on the screen was magical. watch the final take of \"where's the bourbon?\" and monroe seems utterly spontaneous. and watch the famous scene aboard the yacht, where curtis complains that no woman can arouse him, and marilyn does her best. she kisses him not erotically but tenderly, sweetly, as if offering a gift and healing a wound. you remember what curtis said but when you watch that scene, all you can think is that hitler must have been a terrific kisser.\r\n",
      "\r\n",
      "the movie is really the story of the lemmon and curtis characters, and it's got a top-shelf supporting cast (joe e. brown, george raft, pat o'brien), but monroe steals it, as she walked away with every movie she was in. it is an act of the will to watch anyone else while she is on the screen. tony curtis' performance is all the more admirable because we know how many takes she needed--curtis must have felt at times like he was in a pro-am tournament. yet he stays fresh and alive in sparkling dialogue scenes like their first meeting on the beach, where he introduces himself as the shell oil heir and wickedly parodies cary grant. watch his timing in the yacht seduction scene, and the way his character plays with her naivete. \"water polo? isn't that terribly dangerous?\" asks monroe. curtis: \"i'll say! i had two ponies drown under me.\"\r\n",
      "\r\n",
      "watch, too, for wilder's knack of hiding bold sexual symbolism in plain view. when monroe first kisses curtis while they're both horizontal on the couch, notice how his patent-leather shoe rises phallically in the mid-distance behind her. does wilder intend this effect? undoubtedly, because a little later, after the frigid millionaire confesses he has been cured, he says, \"i've got a funny sensation in my toes--like someone was barbecuing them over a slow flame.\" monroe's reply: \"let's throw another log on the fire.\"\r\n",
      "\r\n",
      "jack lemmon gets the fuzzy end of the lollipop in the parallel relationship. the screenplay by wilder and i.a.l. diamond is shakespearean in the way it cuts between high and low comedy, between the heroes and the clowns. the curtis character is able to complete his round trip through gender, but lemmon gets stuck halfway, so that curtis connects with monroe in the upstairs love story while lemmon is downstairs in the screwball department with joe e. brown. their romance is frankly cynical: brown's character gets married and divorced the way other men date, and lemmon plans to marry him for the alimony.\r\n",
      "\r\n",
      "but they both have so much fun in their courtship! while curtis and monroe are on brown's yacht, lemmon and brown are dancing with such perfect timing that a rose in lemmon's teeth ends up in brown's. lemmon has a hilarious scene the morning after his big date, laying on his bed, still in drag, playing with castanets as he announces his engagement. (curtis: \"what are you going to do on your honeymoon?\" lemmon: \"he wants to go to the riviera, but i kinda lean toward niagara falls.\") both curtis and lemmon are practicing cruel deceptions--curtis has monroe thinking she's met a millionaire, and brown thinks lemmon is a woman--but the film dances free before anyone gets hurt. both monroe and brown learn the truth and don't care, and after lemmon reveals he's a man, brown delivers the best curtain line in the movies. if you've seen the movie, you know what it is, and if you haven't, you deserve to hear it for the first time from him.\n",
      "on march 15, 1972, the godfather was unveiled in theaters in new york city. the francis ford coppola film would go on to win three oscars at the 45th academy awards, including best picture. the hollywood reporter's original review is below.\r\n",
      "\r\n",
      "reducing a fat, thick, best-selling novel to manageable screenplay terms has always been a major problem for any filmmaker blessed (or cursed) with the assignment. what do you include? what do you leave out? perhaps even more important, how do you cast to anticipate the expectations of the millions who have already read the book? \r\n",
      "\r\n",
      "the best answer to these knotty problems would seem to have been provided by producer albert s. ruddy on this almost three-hour version of mario puzo's the godfather. you cut where you can, condense where you can, and cast for excitement rather than any preconceptions of how each character should look. otherwise, how do you get marlon brando for the titular role? \r\n",
      "\r\n",
      "brando, with the first part that he would really sink his teeth into in years, emerges as the hero of this production. spanning a quarter of a century, the film traces the career of this (forgive me) mafia capo from the years of his undisputed ascendancy immediately after world war ii, when he indignantly refuses to become part of the growing traffic in drugs, to his dignified stepping down late in the '50s to make room for his youngest son. in a marvelously inventive and affecting scene, brando turns from the godfather to grandfather — and dies in the process.\r\n",
      "\r\n",
      "not far behind him is al pacino, last seen in panic in needle park, and virtually a double for dustin hoffman. as the youthful michael corleone, destined to inherit the mantle of the godfather, he progresses convincingly from a naive, decorated g.i. just returned to the bosom of his family to a nerveless, ruthless killer in sole charge of a domain that comes to include drugs, prostitution, las vegas gambling and political fixes. his multifaceted portrayal should catapult him to stardom. \r\n",
      "\r\n",
      "but even though each of the featured roles in the godfather has been cast to perfection — with veterans like james caan, richard castellano, robert duvall, sterling hayden, john marley and richard conte playing them — the strength of the mario puzo-francis ford coppola script is the unbelievable interaction of all these characters as they span the years. \r\n",
      "\r\n",
      "without undue emphasis, it shows the closeness, the warmth of family ties. the scenes are filled with wives and squalling babies, festive weddings and equally festive funerals, spaghetti prepared in the kitchen ... there is the flavor of italian home life that few gangster films have attempted. \r\n",
      "\r\n",
      "at the same time, there is also a specificity in the persona that few films have dared. which crooner was separated from whose orchestra on a friendly suggestion from the godfather? and which movie producer was induced to hire him for a war movie by finding the head of his favorite horse in bed with him one morning? (here, literary hyperbole may have embellished the facts, but it makes an effective, blood-curdling scene.)\r\n",
      "\r\n",
      "director francis ford coppola, with a strong assist from cameraman gordon willis, has done an extraordinary job of capturing period and place. very few of the new york exteriors appear to be stock shots; most have been re-created with an incredible attention to detail. interiors have the rich, burnt-umber look of photographs taken decades ago; while the exteriors — whether representing a garden party in new jersey or an amorous interlude in sicily — are drenched with color and sun. a \"dean martin & jerry lewis\" billboard in vegas or \"have yourself a merry little christmas\" on the soundtrack (while a gangster dons his bulletproof vest) also add their own wry grace notes to the passing years.\r\n",
      "\r\n",
      "this is a curious film. one comes to understand, even to condone, the activities of the godfather and his clan. and even though it frankly portrays the underworld's influence in the sacrosanct worlds of hollywood and las vegas, there is the feeling that, with young michael there, these will be better worlds. essentially, the godfather is the projection of a myth, not a fact. but it is myths — not facts — that make a fortune. — arthur knight, originally published on march 8, 1972\n",
      "in one second, the time it takes to look away from the road to tune a car radio, drop a book to the street, or bump into a stranger, the path of one's life can be drastically altered, as well as the lives of people not even known. red, a masterful film of chance encounters, parallel lives, mysterious coincidence, and mutual wonderment, is the latest from director krzysztof kieslowski. the final and best chapter of his “three colors” trilogy, based on the colors of the french flag (blue/liberty, white/equality, red/fraternity), red seems at first more about isolation than fraternity. the young model valentine (jacob, from kieslowski's the double life of veronique) leads a mundane existence, prolonging a brittle long-distance relationship. she has never met auguste (lorit), a law student who lives right around the corner. the retired judge (trintignant) spends his days eavesdropping on others, seemingly having given up on a life of his own. when valentine appears at the judge's door with his injured dog, she is rudely dismissed. repulsed by his indifference and his eavesdropping, valentine nonetheless returns to him, and slowly, like absorbing the warmth of the sun, they are drawn to each other, opening up in completely unexpected ways. together with longtime collaborator krzysztof piesiewicz, kieslowski has devised an utterly contemporary fable, imbued with a richness and complexity, yet so understated that the visuals often carry the story. haunting imagery, swathed in red, permeates the screen. red holds on to its mysteries tenaciously, revealing them slowly, if ever. kieslowski's detractors label him pretentious and murky, and they are not likely to change their minds here. yet kieslowski understands that life's beauty is not in spite of the unexpected and unexplained, but because of it. the improbabilities of chance are endless; what might have happened if you'd been looking the other way, spoken to the person sitting next to you, been born 20 years earlier… as in life, you never know where this story is going. the film courses with vitality -- and makes you glad to be alive. kieslowski's deft touch gives red its real magic; in the end, the subtle nuances are what stay with you: a ringing phone just out of reach, late afternoon sunlight brushing across a face, a shattered beer glass in a bowling alley. despite the neat tie-in at the film's conclusion, you need not have seen the other two films in this series to follow what is going on here (though both blue and white are on video and recommended). kieslowski, who finds the filmmaking process arduous, has announced his retirement. at age 53, with only a handful of remarkable features to his name (including the epic decalogue), it remains to be seen whether he will keep his word, but either way, he could not have chosen a more memorable testament to his singular talent and vision than red.\n"
     ]
    }
   ],
   "source": [
    "with ZipFile(\"movies.zip\", \"r\") as zip_file:\n",
    "\n",
    "    # Loop through all files in the archive\n",
    "    for file_name in zip_file.namelist():\n",
    "\n",
    "        # Check if the file is a text file\n",
    "        if file_name.endswith(\".txt\"):\n",
    "\n",
    "            # Read the text file\n",
    "            with zip_file.open(file_name, \"r\") as text_file:\n",
    "                text = text_file.read().decode(\"cp1252\").lower()\n",
    "\n",
    "            # Do something with the text data\n",
    "            print(text)"
   ]
  },
  {
   "cell_type": "code",
   "execution_count": 6,
   "id": "2e796ac6",
   "metadata": {},
   "outputs": [],
   "source": [
    "#2. Tokenize your movie file and print the following"
   ]
  },
  {
   "cell_type": "code",
   "execution_count": 7,
   "id": "6f06ede7",
   "metadata": {},
   "outputs": [],
   "source": [
    "#a.How many sentences in the file?"
   ]
  },
  {
   "cell_type": "code",
   "execution_count": 8,
   "id": "e8b8d3a3",
   "metadata": {},
   "outputs": [
    {
     "data": {
      "text/plain": [
       "19"
      ]
     },
     "execution_count": 8,
     "metadata": {},
     "output_type": "execute_result"
    }
   ],
   "source": [
    "from nltk.tokenize import sent_tokenize\n",
    "sentences = sent_tokenize(text)\n",
    "len(sentences)"
   ]
  },
  {
   "cell_type": "code",
   "execution_count": 9,
   "id": "27fcaaab",
   "metadata": {},
   "outputs": [],
   "source": [
    "#b.How many words in the file ?"
   ]
  },
  {
   "cell_type": "code",
   "execution_count": 10,
   "id": "519c2a0a",
   "metadata": {},
   "outputs": [
    {
     "data": {
      "text/plain": [
       "479"
      ]
     },
     "execution_count": 10,
     "metadata": {},
     "output_type": "execute_result"
    }
   ],
   "source": [
    "from nltk.tokenize import WhitespaceTokenizer\n",
    "token=WhitespaceTokenizer().tokenize(text)\n",
    "len(token)"
   ]
  },
  {
   "cell_type": "code",
   "execution_count": 11,
   "id": "0265d01b",
   "metadata": {},
   "outputs": [],
   "source": [
    "#c. What are the top 10 words and their counts"
   ]
  },
  {
   "cell_type": "code",
   "execution_count": 12,
   "id": "8ac0fcda",
   "metadata": {},
   "outputs": [
    {
     "data": {
      "text/plain": [
       "[('the', 31),\n",
       " ('a', 15),\n",
       " ('to', 14),\n",
       " ('of', 13),\n",
       " ('and', 12),\n",
       " ('his', 10),\n",
       " ('in', 8),\n",
       " ('on', 6),\n",
       " ('with', 6),\n",
       " ('not', 5)]"
      ]
     },
     "execution_count": 12,
     "metadata": {},
     "output_type": "execute_result"
    }
   ],
   "source": [
    "top_10=FreqDist(token)\n",
    "top_10.most_common(10)"
   ]
  },
  {
   "cell_type": "code",
   "execution_count": 13,
   "id": "299cf31f",
   "metadata": {},
   "outputs": [],
   "source": [
    "#d. How many different POS tags are represented in this file ?"
   ]
  },
  {
   "cell_type": "code",
   "execution_count": 14,
   "id": "51987706",
   "metadata": {},
   "outputs": [
    {
     "name": "stderr",
     "output_type": "stream",
     "text": [
      "[nltk_data] Downloading package averaged_perceptron_tagger to\n",
      "[nltk_data]     C:\\Users\\Admin\\AppData\\Roaming\\nltk_data...\n",
      "[nltk_data]   Package averaged_perceptron_tagger is already up-to-\n",
      "[nltk_data]       date!\n"
     ]
    },
    {
     "data": {
      "text/plain": [
       "True"
      ]
     },
     "execution_count": 14,
     "metadata": {},
     "output_type": "execute_result"
    }
   ],
   "source": [
    "import nltk\n",
    "nltk.download('averaged_perceptron_tagger')"
   ]
  },
  {
   "cell_type": "code",
   "execution_count": 15,
   "id": "8792e8dd",
   "metadata": {},
   "outputs": [
    {
     "data": {
      "text/plain": [
       "[('one', 'CD'),\n",
       " ('second,', 'NN'),\n",
       " ('time', 'NN'),\n",
       " ('takes', 'VBZ'),\n",
       " ('look', 'VBP'),\n",
       " ('away', 'RB'),\n",
       " ('road', 'NN'),\n",
       " ('tune', 'NN'),\n",
       " ('car', 'NN'),\n",
       " ('radio,', 'NN'),\n",
       " ('drop', 'NN'),\n",
       " ('book', 'NN'),\n",
       " ('street,', 'JJ'),\n",
       " ('bump', 'NN'),\n",
       " ('stranger,', 'JJ'),\n",
       " ('path', 'NN'),\n",
       " (\"one's\", 'JJ'),\n",
       " ('life', 'NN'),\n",
       " ('drastically', 'RB'),\n",
       " ('altered,', 'RB'),\n",
       " ('well', 'RB'),\n",
       " ('lives', 'VBZ'),\n",
       " ('people', 'NNS'),\n",
       " ('even', 'RB'),\n",
       " ('known.', 'VBP'),\n",
       " ('red,', 'JJ'),\n",
       " ('masterful', 'JJ'),\n",
       " ('film', 'NN'),\n",
       " ('chance', 'NN'),\n",
       " ('encounters,', 'NN'),\n",
       " ('parallel', 'JJ'),\n",
       " ('lives,', 'RB'),\n",
       " ('mysterious', 'JJ'),\n",
       " ('coincidence,', 'NNS'),\n",
       " ('mutual', 'JJ'),\n",
       " ('wonderment,', 'NN'),\n",
       " ('latest', 'JJS'),\n",
       " ('director', 'NN'),\n",
       " ('krzysztof', 'VBD'),\n",
       " ('kieslowski.', 'JJ'),\n",
       " ('final', 'JJ'),\n",
       " ('best', 'JJS'),\n",
       " ('chapter', 'NN'),\n",
       " ('“three', 'JJ'),\n",
       " ('colors”', 'NN'),\n",
       " ('trilogy,', 'NN'),\n",
       " ('based', 'VBN'),\n",
       " ('colors', 'NNS'),\n",
       " ('french', 'JJ'),\n",
       " ('flag', 'NN'),\n",
       " ('(blue/liberty,', 'NNP'),\n",
       " ('white/equality,', 'NN'),\n",
       " ('red/fraternity),', 'NN'),\n",
       " ('red', 'JJ'),\n",
       " ('seems', 'VBZ'),\n",
       " ('first', 'JJ'),\n",
       " ('isolation', 'NN'),\n",
       " ('fraternity.', 'NN'),\n",
       " ('young', 'JJ'),\n",
       " ('model', 'NN'),\n",
       " ('valentine', 'NN'),\n",
       " ('(jacob,', 'NNP'),\n",
       " (\"kieslowski's\", 'NN'),\n",
       " ('double', 'JJ'),\n",
       " ('life', 'NN'),\n",
       " ('veronique)', 'NN'),\n",
       " ('leads', 'VBZ'),\n",
       " ('mundane', 'JJ'),\n",
       " ('existence,', 'NN'),\n",
       " ('prolonging', 'VBG'),\n",
       " ('brittle', 'JJ'),\n",
       " ('long-distance', 'JJ'),\n",
       " ('relationship.', 'NN'),\n",
       " ('never', 'RB'),\n",
       " ('met', 'VBD'),\n",
       " ('auguste', 'NN'),\n",
       " ('(lorit),', 'NNP'),\n",
       " ('law', 'NN'),\n",
       " ('student', 'NN'),\n",
       " ('lives', 'VBZ'),\n",
       " ('right', 'JJ'),\n",
       " ('around', 'IN'),\n",
       " ('corner.', 'NN'),\n",
       " ('retired', 'VBD'),\n",
       " ('judge', 'NN'),\n",
       " ('(trintignant)', 'NNP'),\n",
       " ('spends', 'VBZ'),\n",
       " ('days', 'NNS'),\n",
       " ('eavesdropping', 'VBG'),\n",
       " ('others,', 'JJ'),\n",
       " ('seemingly', 'RB'),\n",
       " ('given', 'VBN'),\n",
       " ('life', 'NN'),\n",
       " ('own.', 'FW'),\n",
       " ('valentine', 'NN'),\n",
       " ('appears', 'VBZ'),\n",
       " (\"judge's\", 'JJ'),\n",
       " ('door', 'NN'),\n",
       " ('injured', 'VBD'),\n",
       " ('dog,', 'RBR'),\n",
       " ('rudely', 'RB'),\n",
       " ('dismissed.', 'VB'),\n",
       " ('repulsed', 'JJ'),\n",
       " ('indifference', 'NN'),\n",
       " ('eavesdropping,', 'NN'),\n",
       " ('valentine', 'NN'),\n",
       " ('nonetheless', 'RB'),\n",
       " ('returns', 'VBZ'),\n",
       " ('him,', 'JJ'),\n",
       " ('slowly,', 'NNS'),\n",
       " ('like', 'IN'),\n",
       " ('absorbing', 'VBG'),\n",
       " ('warmth', 'NN'),\n",
       " ('sun,', 'NN'),\n",
       " ('drawn', 'NN'),\n",
       " ('other,', 'IN'),\n",
       " ('opening', 'VBG'),\n",
       " ('completely', 'RB'),\n",
       " ('unexpected', 'JJ'),\n",
       " ('ways.', 'NN'),\n",
       " ('together', 'RB'),\n",
       " ('longtime', 'JJ'),\n",
       " ('collaborator', 'NN'),\n",
       " ('krzysztof', 'VBD'),\n",
       " ('piesiewicz,', 'JJ'),\n",
       " ('kieslowski', 'NNS'),\n",
       " ('devised', 'VBD'),\n",
       " ('utterly', 'JJ'),\n",
       " ('contemporary', 'JJ'),\n",
       " ('fable,', 'NN'),\n",
       " ('imbued', 'VBD'),\n",
       " ('richness', 'JJ'),\n",
       " ('complexity,', 'NN'),\n",
       " ('yet', 'RB'),\n",
       " ('understated', 'JJ'),\n",
       " ('visuals', 'NNS'),\n",
       " ('often', 'RB'),\n",
       " ('carry', 'VBP'),\n",
       " ('story.', 'JJ'),\n",
       " ('haunting', 'NN'),\n",
       " ('imagery,', 'NN'),\n",
       " ('swathed', 'VBD'),\n",
       " ('red,', 'NN'),\n",
       " ('permeates', 'NNS'),\n",
       " ('screen.', 'VBP'),\n",
       " ('red', 'JJ'),\n",
       " ('holds', 'VBZ'),\n",
       " ('mysteries', 'NNS'),\n",
       " ('tenaciously,', 'IN'),\n",
       " ('revealing', 'VBG'),\n",
       " ('slowly,', 'JJ'),\n",
       " ('ever.', 'NN'),\n",
       " (\"kieslowski's\", 'NN'),\n",
       " ('detractors', 'NNS'),\n",
       " ('label', 'VBP'),\n",
       " ('pretentious', 'JJ'),\n",
       " ('murky,', 'NNS'),\n",
       " ('likely', 'JJ'),\n",
       " ('change', 'NN'),\n",
       " ('minds', 'NNS'),\n",
       " ('here.', 'VBP'),\n",
       " ('yet', 'RB'),\n",
       " ('kieslowski', 'VBN'),\n",
       " ('understands', 'VBZ'),\n",
       " (\"life's\", 'JJ'),\n",
       " ('beauty', 'NN'),\n",
       " ('spite', 'NN'),\n",
       " ('unexpected', 'JJ'),\n",
       " ('unexplained,', 'JJ'),\n",
       " ('it.', 'NN'),\n",
       " ('improbabilities', 'NNS'),\n",
       " ('chance', 'NN'),\n",
       " ('endless;', 'NN'),\n",
       " ('might', 'MD'),\n",
       " ('happened', 'VB'),\n",
       " ('looking', 'VBG'),\n",
       " ('way,', 'JJ'),\n",
       " ('spoken', 'JJ'),\n",
       " ('person', 'NN'),\n",
       " ('sitting', 'VBG'),\n",
       " ('next', 'JJ'),\n",
       " ('you,', 'NN'),\n",
       " ('born', 'VBN'),\n",
       " ('20', 'CD'),\n",
       " ('years', 'NNS'),\n",
       " ('earlier…', 'RB'),\n",
       " ('life,', 'VBP'),\n",
       " ('never', 'RB'),\n",
       " ('know', 'VBP'),\n",
       " ('story', 'NN'),\n",
       " ('going.', 'NN'),\n",
       " ('film', 'NN'),\n",
       " ('courses', 'NNS'),\n",
       " ('vitality', 'NN'),\n",
       " ('--', ':'),\n",
       " ('makes', 'VBZ'),\n",
       " ('glad', 'JJ'),\n",
       " ('alive.', 'JJ'),\n",
       " (\"kieslowski's\", 'NN'),\n",
       " ('deft', 'VBD'),\n",
       " ('touch', 'JJ'),\n",
       " ('gives', 'VBZ'),\n",
       " ('red', 'JJ'),\n",
       " ('real', 'JJ'),\n",
       " ('magic;', 'NN'),\n",
       " ('end,', 'NN'),\n",
       " ('subtle', 'JJ'),\n",
       " ('nuances', 'NNS'),\n",
       " ('stay', 'VBP'),\n",
       " ('you:', 'RB'),\n",
       " ('ringing', 'VBG'),\n",
       " ('phone', 'NN'),\n",
       " ('reach,', 'NN'),\n",
       " ('late', 'JJ'),\n",
       " ('afternoon', 'NN'),\n",
       " ('sunlight', 'VBD'),\n",
       " ('brushing', 'VBG'),\n",
       " ('across', 'IN'),\n",
       " ('face,', 'NN'),\n",
       " ('shattered', 'VBD'),\n",
       " ('beer', 'NN'),\n",
       " ('glass', 'NN'),\n",
       " ('bowling', 'NN'),\n",
       " ('alley.', 'IN'),\n",
       " ('despite', 'IN'),\n",
       " ('neat', 'JJ'),\n",
       " ('tie-in', 'JJ'),\n",
       " (\"film's\", 'NN'),\n",
       " ('conclusion,', 'NNS'),\n",
       " ('need', 'VBP'),\n",
       " ('seen', 'VBN'),\n",
       " ('two', 'CD'),\n",
       " ('films', 'NNS'),\n",
       " ('series', 'NN'),\n",
       " ('follow', 'VBP'),\n",
       " ('going', 'VBG'),\n",
       " ('(though', 'IN'),\n",
       " ('blue', 'JJ'),\n",
       " ('white', 'JJ'),\n",
       " ('video', 'NN'),\n",
       " ('recommended).', 'NN'),\n",
       " ('kieslowski,', 'VB'),\n",
       " ('finds', 'VBZ'),\n",
       " ('filmmaking', 'VBG'),\n",
       " ('process', 'NN'),\n",
       " ('arduous,', 'NN'),\n",
       " ('announced', 'VBD'),\n",
       " ('retirement.', 'JJ'),\n",
       " ('age', 'NN'),\n",
       " ('53,', 'CD'),\n",
       " ('handful', 'NN'),\n",
       " ('remarkable', 'JJ'),\n",
       " ('features', 'NNS'),\n",
       " ('name', 'VBP'),\n",
       " ('(including', 'VBG'),\n",
       " ('epic', 'NN'),\n",
       " ('decalogue),', 'NN'),\n",
       " ('remains', 'VBZ'),\n",
       " ('seen', 'VBN'),\n",
       " ('whether', 'IN'),\n",
       " ('keep', 'JJ'),\n",
       " ('word,', 'NN'),\n",
       " ('either', 'DT'),\n",
       " ('way,', 'NN'),\n",
       " ('could', 'MD'),\n",
       " ('chosen', 'VB'),\n",
       " ('memorable', 'JJ'),\n",
       " ('testament', 'NN'),\n",
       " ('singular', 'JJ'),\n",
       " ('talent', 'NN'),\n",
       " ('vision', 'NN'),\n",
       " ('red.', 'NN')]"
      ]
     },
     "execution_count": 15,
     "metadata": {},
     "output_type": "execute_result"
    }
   ],
   "source": [
    "tag =[]\n",
    "d_tags = []\n",
    "words = [w for w in token if not w in stop_words]\n",
    "tagged = nltk.pos_tag(words)\n",
    "tagged"
   ]
  },
  {
   "cell_type": "code",
   "execution_count": 16,
   "id": "1cd1d172",
   "metadata": {},
   "outputs": [
    {
     "data": {
      "text/plain": [
       "19"
      ]
     },
     "execution_count": 16,
     "metadata": {},
     "output_type": "execute_result"
    }
   ],
   "source": [
    "for i in tagged:\n",
    "    (word,pos) = i\n",
    "    tag.append(pos)\n",
    "for j in tag:\n",
    "    if j not in d_tags:\n",
    "        d_tags.append(j)\n",
    "len(d_tags) "
   ]
  },
  {
   "cell_type": "code",
   "execution_count": 17,
   "id": "4582db90",
   "metadata": {},
   "outputs": [],
   "source": [
    "#e.What are the top 10 POS tags and their counts"
   ]
  },
  {
   "cell_type": "code",
   "execution_count": 18,
   "id": "fffdda27",
   "metadata": {},
   "outputs": [
    {
     "data": {
      "text/plain": [
       "[(('life', 'NN'), 3),\n",
       " (('red', 'JJ'), 3),\n",
       " (('valentine', 'NN'), 3),\n",
       " ((\"kieslowski's\", 'NN'), 3),\n",
       " (('lives', 'VBZ'), 2),\n",
       " (('film', 'NN'), 2),\n",
       " (('chance', 'NN'), 2),\n",
       " (('krzysztof', 'VBD'), 2),\n",
       " (('never', 'RB'), 2),\n",
       " (('unexpected', 'JJ'), 2)]"
      ]
     },
     "execution_count": 18,
     "metadata": {},
     "output_type": "execute_result"
    }
   ],
   "source": [
    "top = FreqDist(tagged)\n",
    "top.most_common(10)\n"
   ]
  },
  {
   "cell_type": "code",
   "execution_count": 19,
   "id": "7676882e",
   "metadata": {},
   "outputs": [],
   "source": [
    "#f.How many nouns in the file?"
   ]
  },
  {
   "cell_type": "code",
   "execution_count": 20,
   "id": "81654653",
   "metadata": {},
   "outputs": [
    {
     "name": "stdout",
     "output_type": "stream",
     "text": [
      "107\n"
     ]
    }
   ],
   "source": [
    "noun = 0\n",
    "for i in top.keys():\n",
    "    (words,pos)= i\n",
    "    if pos == 'NN' or pos == 'NNS' or pos == 'NNP' or pos =='NNPS':\n",
    "        noun+=1\n",
    "print(noun)"
   ]
  },
  {
   "cell_type": "code",
   "execution_count": 21,
   "id": "9d7728f2",
   "metadata": {},
   "outputs": [],
   "source": [
    "#g.How many verbs in the file?"
   ]
  },
  {
   "cell_type": "code",
   "execution_count": 22,
   "id": "844636e2",
   "metadata": {},
   "outputs": [
    {
     "name": "stdout",
     "output_type": "stream",
     "text": [
      "57\n"
     ]
    }
   ],
   "source": [
    "verbs = 0\n",
    "for i in top.keys():\n",
    "    (word,pos)= i\n",
    "    if pos == 'VB' or pos =='VBD' or pos == 'VBN' or pos == 'VBP' or pos == 'VBZ' or pos =='VBG':\n",
    "        verbs+=1\n",
    "print(verbs)"
   ]
  },
  {
   "cell_type": "code",
   "execution_count": 23,
   "id": "2b03c213",
   "metadata": {},
   "outputs": [],
   "source": [
    "#h.How many adjective in the file?"
   ]
  },
  {
   "cell_type": "code",
   "execution_count": 24,
   "id": "05706c06",
   "metadata": {},
   "outputs": [
    {
     "data": {
      "text/plain": [
       "57"
      ]
     },
     "execution_count": 24,
     "metadata": {},
     "output_type": "execute_result"
    }
   ],
   "source": [
    "adjectives = [word for word, pos in top if pos == 'JJ' or pos == 'JJR' or pos == \"JJS\"]\n",
    "len(adjectives)\n"
   ]
  },
  {
   "cell_type": "code",
   "execution_count": 25,
   "id": "72c1ae3a",
   "metadata": {},
   "outputs": [
    {
     "data": {
      "text/plain": [
       "17"
      ]
     },
     "execution_count": 25,
     "metadata": {},
     "output_type": "execute_result"
    }
   ],
   "source": [
    "#i. How many adverbs in the file?\n",
    "adverbs=[word for word, pos in top if pos=='RB' or pos == \"RBR\" or pos == \"RBS\" or pos == \"BP\"]\n",
    "len(adverbs)\n"
   ]
  },
  {
   "cell_type": "code",
   "execution_count": 26,
   "id": "14b76535",
   "metadata": {},
   "outputs": [],
   "source": [
    "#j. What is the most frequest adjective?"
   ]
  },
  {
   "cell_type": "code",
   "execution_count": 27,
   "id": "5c5e1431",
   "metadata": {},
   "outputs": [
    {
     "data": {
      "text/plain": [
       "[('red', 1)]"
      ]
     },
     "execution_count": 27,
     "metadata": {},
     "output_type": "execute_result"
    }
   ],
   "source": [
    "adjl=FreqDist(adjectives)\n",
    "adjl.most_common(1)"
   ]
  },
  {
   "cell_type": "code",
   "execution_count": 28,
   "id": "ebd7dcc5",
   "metadata": {},
   "outputs": [],
   "source": [
    "#k. What is the most frequest adverb?"
   ]
  },
  {
   "cell_type": "code",
   "execution_count": 29,
   "id": "3de87159",
   "metadata": {},
   "outputs": [
    {
     "data": {
      "text/plain": [
       "[('never', 1)]"
      ]
     },
     "execution_count": 29,
     "metadata": {},
     "output_type": "execute_result"
    }
   ],
   "source": [
    "adv1=FreqDist(adverbs)\n",
    "adv1.most_common(1)"
   ]
  }
 ],
 "metadata": {
  "kernelspec": {
   "display_name": "Python 3 (ipykernel)",
   "language": "python",
   "name": "python3"
  },
  "language_info": {
   "codemirror_mode": {
    "name": "ipython",
    "version": 3
   },
   "file_extension": ".py",
   "mimetype": "text/x-python",
   "name": "python",
   "nbconvert_exporter": "python",
   "pygments_lexer": "ipython3",
   "version": "3.9.12"
  }
 },
 "nbformat": 4,
 "nbformat_minor": 5
}
